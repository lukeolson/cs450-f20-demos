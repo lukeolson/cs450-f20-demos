{
  "cells": [
    {
      "cell_type": "code",
      "execution_count": 8,
      "metadata": {},
      "outputs": [],
      "source": [
        "import pyamg\n",
        "import numpy as np"
      ]
    },
    {
      "cell_type": "code",
      "execution_count": 2,
      "metadata": {},
      "outputs": [
        {
          "name": "stdout",
          "output_type": "stream",
          "text": [
            "Processing /Users/lukeo/Library/Caches/pip/wheels/1a/0a/10/3002018fd50f1011e66e719f89cdb89399bf2eaa965aac821a/pyamg-4.0.0-cp38-cp38-macosx_10_15_x86_64.whl\n",
            "Collecting pytest>=2\n",
            "  Using cached pytest-6.0.2-py3-none-any.whl (270 kB)\n",
            "Requirement already satisfied: numpy>=1.7.0 in /Users/lukeo/.virtualenvs/cs450-f20/lib/python3.8/site-packages (from pyamg) (1.19.1)\n",
            "Collecting pybind11>=2.2\n",
            "  Using cached pybind11-2.5.0-py2.py3-none-any.whl (296 kB)\n",
            "Requirement already satisfied: scipy>=0.12.0 in /Users/lukeo/.virtualenvs/cs450-f20/lib/python3.8/site-packages (from pyamg) (1.5.2)\n",
            "Requirement already satisfied: packaging in /Users/lukeo/.virtualenvs/cs450-f20/lib/python3.8/site-packages (from pytest>=2->pyamg) (20.4)\n",
            "Requirement already satisfied: attrs>=17.4.0 in /Users/lukeo/.virtualenvs/cs450-f20/lib/python3.8/site-packages (from pytest>=2->pyamg) (19.3.0)\n",
            "Collecting iniconfig\n",
            "  Using cached iniconfig-1.0.1-py3-none-any.whl (4.2 kB)\n",
            "Collecting py>=1.8.2\n",
            "  Using cached py-1.9.0-py2.py3-none-any.whl (99 kB)\n",
            "Collecting pluggy<1.0,>=0.12\n",
            "  Using cached pluggy-0.13.1-py2.py3-none-any.whl (18 kB)\n",
            "Collecting more-itertools>=4.0.0\n",
            "  Using cached more_itertools-8.5.0-py3-none-any.whl (44 kB)\n",
            "Collecting toml\n",
            "  Using cached toml-0.10.1-py2.py3-none-any.whl (19 kB)\n",
            "Requirement already satisfied: pyparsing>=2.0.2 in /Users/lukeo/.virtualenvs/cs450-f20/lib/python3.8/site-packages (from packaging->pytest>=2->pyamg) (2.4.7)\n",
            "Requirement already satisfied: six in /Users/lukeo/.virtualenvs/cs450-f20/lib/python3.8/site-packages (from packaging->pytest>=2->pyamg) (1.15.0)\n",
            "Installing collected packages: iniconfig, py, pluggy, more-itertools, toml, pytest, pybind11, pyamg\n",
            "Successfully installed iniconfig-1.0.1 more-itertools-8.5.0 pluggy-0.13.1 py-1.9.0 pyamg-4.0.0 pybind11-2.5.0 pytest-6.0.2 toml-0.10.1\n",
            "\u001b[33mWARNING: You are using pip version 20.2.2; however, version 20.2.3 is available.\n",
            "You should consider upgrading via the '/Users/lukeo/.virtualenvs/cs450-f20/bin/python -m pip install --upgrade pip' command.\u001b[0m\n"
          ]
        }
      ],
      "source": [
        "!pip install pyamg"
      ]
    },
    {
      "cell_type": "code",
      "execution_count": 4,
      "metadata": {},
      "outputs": [
        {
          "name": "stderr",
          "output_type": "stream",
          "text": [
            "/Users/lukeo/.virtualenvs/cs450-f20/lib/python3.8/site-packages/pyamg/gallery/stencil.py:114: FutureWarning: Using a non-tuple sequence for multidimensional indexing is deprecated; use `arr[tuple(seq)]` instead of `arr[seq]`. In the future this will be interpreted as an array index, `arr[np.array(seq)]`, which will result either in an error or a different result.\n",
            "  diag[s] = 0\n",
            "/Users/lukeo/.virtualenvs/cs450-f20/lib/python3.8/site-packages/pyamg/gallery/stencil.py:110: FutureWarning: Using a non-tuple sequence for multidimensional indexing is deprecated; use `arr[tuple(seq)]` instead of `arr[seq]`. In the future this will be interpreted as an array index, `arr[np.array(seq)]`, which will result either in an error or a different result.\n",
            "  diag[s] = 0\n"
          ]
        }
      ],
      "source": [
        "A = pyamg.gallery.poisson((5,5), format='csr')"
      ]
    },
    {
      "cell_type": "code",
      "execution_count": 5,
      "metadata": {},
      "outputs": [
        {
          "data": {
            "text/plain": [
              "<25x25 sparse matrix of type '<class 'numpy.float64'>'\n",
              "\twith 105 stored elements in Compressed Sparse Row format>"
            ]
          },
          "execution_count": 5,
          "metadata": {},
          "output_type": "execute_result"
        }
      ],
      "source": [
        "A"
      ]
    },
    {
      "cell_type": "code",
      "execution_count": 21,
      "metadata": {},
      "outputs": [],
      "source": [
        "I = np.where(np.diff(A.indptr)==4)[0]"
      ]
    },
    {
      "cell_type": "code",
      "execution_count": 22,
      "metadata": {},
      "outputs": [
        {
          "data": {
            "text/plain": [
              "array([ 1,  2,  3,  5,  9, 10, 14, 15, 19, 21, 22, 23])"
            ]
          },
          "execution_count": 22,
          "metadata": {},
          "output_type": "execute_result"
        }
      ],
      "source": [
        "I"
      ]
    },
    {
      "cell_type": "code",
      "execution_count": 32,
      "metadata": {},
      "outputs": [],
      "source": [
        "B = A[I,:][:,I]"
      ]
    },
    {
      "cell_type": "code",
      "execution_count": 24,
      "metadata": {},
      "outputs": [
        {
          "data": {
            "text/plain": [
              "<12x12 sparse matrix of type '<class 'numpy.float64'>'\n",
              "\twith 28 stored elements in Compressed Sparse Row format>"
            ]
          },
          "execution_count": 24,
          "metadata": {},
          "output_type": "execute_result"
        }
      ],
      "source": [
        "B"
      ]
    },
    {
      "cell_type": "code",
      "execution_count": 25,
      "metadata": {},
      "outputs": [
        {
          "data": {
            "text/plain": [
              "(12, 12)"
            ]
          },
          "execution_count": 25,
          "metadata": {},
          "output_type": "execute_result"
        }
      ],
      "source": [
        "B.shape"
      ]
    },
    {
      "cell_type": "code",
      "execution_count": 26,
      "metadata": {},
      "outputs": [
        {
          "ename": "AttributeError",
          "evalue": "spae not found",
          "output_type": "error",
          "traceback": [
            "\u001b[0;31m---------------------------------------------------------------------------\u001b[0m",
            "\u001b[0;31mAttributeError\u001b[0m                            Traceback (most recent call last)",
            "\u001b[0;32m<ipython-input-26-0935d47f35ff>\u001b[0m in \u001b[0;36m<module>\u001b[0;34m\u001b[0m\n\u001b[0;32m----> 1\u001b[0;31m \u001b[0mA\u001b[0m\u001b[0;34m.\u001b[0m\u001b[0mspae\u001b[0m\u001b[0;34m\u001b[0m\u001b[0;34m\u001b[0m\u001b[0m\n\u001b[0m",
            "\u001b[0;32m~/.virtualenvs/cs450-f20/lib/python3.8/site-packages/scipy/sparse/base.py\u001b[0m in \u001b[0;36m__getattr__\u001b[0;34m(self, attr)\u001b[0m\n\u001b[1;32m    685\u001b[0m             \u001b[0;32mreturn\u001b[0m \u001b[0mself\u001b[0m\u001b[0;34m.\u001b[0m\u001b[0mgetnnz\u001b[0m\u001b[0;34m(\u001b[0m\u001b[0;34m)\u001b[0m\u001b[0;34m\u001b[0m\u001b[0;34m\u001b[0m\u001b[0m\n\u001b[1;32m    686\u001b[0m         \u001b[0;32melse\u001b[0m\u001b[0;34m:\u001b[0m\u001b[0;34m\u001b[0m\u001b[0;34m\u001b[0m\u001b[0m\n\u001b[0;32m--> 687\u001b[0;31m             \u001b[0;32mraise\u001b[0m \u001b[0mAttributeError\u001b[0m\u001b[0;34m(\u001b[0m\u001b[0mattr\u001b[0m \u001b[0;34m+\u001b[0m \u001b[0;34m\" not found\"\u001b[0m\u001b[0;34m)\u001b[0m\u001b[0;34m\u001b[0m\u001b[0;34m\u001b[0m\u001b[0m\n\u001b[0m\u001b[1;32m    688\u001b[0m \u001b[0;34m\u001b[0m\u001b[0m\n\u001b[1;32m    689\u001b[0m     \u001b[0;32mdef\u001b[0m \u001b[0mtranspose\u001b[0m\u001b[0;34m(\u001b[0m\u001b[0mself\u001b[0m\u001b[0;34m,\u001b[0m \u001b[0maxes\u001b[0m\u001b[0;34m=\u001b[0m\u001b[0;32mNone\u001b[0m\u001b[0;34m,\u001b[0m \u001b[0mcopy\u001b[0m\u001b[0;34m=\u001b[0m\u001b[0;32mFalse\u001b[0m\u001b[0;34m)\u001b[0m\u001b[0;34m:\u001b[0m\u001b[0;34m\u001b[0m\u001b[0;34m\u001b[0m\u001b[0m\n",
            "\u001b[0;31mAttributeError\u001b[0m: spae not found"
          ]
        }
      ],
      "source": [
        "A.spae"
      ]
    },
    {
      "cell_type": "code",
      "execution_count": 27,
      "metadata": {},
      "outputs": [
        {
          "data": {
            "text/plain": [
              "(25, 25)"
            ]
          },
          "execution_count": 27,
          "metadata": {},
          "output_type": "execute_result"
        }
      ],
      "source": [
        "A.shape"
      ]
    },
    {
      "cell_type": "code",
      "execution_count": 33,
      "metadata": {},
      "outputs": [
        {
          "data": {
            "text/plain": [
              "<12x12 sparse matrix of type '<class 'numpy.float64'>'\n",
              "\twith 28 stored elements in Compressed Sparse Row format>"
            ]
          },
          "execution_count": 33,
          "metadata": {},
          "output_type": "execute_result"
        }
      ],
      "source": [
        "B"
      ]
    },
    {
      "cell_type": "code",
      "execution_count": 31,
      "metadata": {},
      "outputs": [
        {
          "data": {
            "text/plain": [
              "array([[ 4., -1.,  0.,  0.,  0.,  0.,  0.,  0.,  0.,  0.,  0.,  0.],\n",
              "       [-1.,  4., -1.,  0.,  0.,  0.,  0.,  0.,  0.,  0.,  0.,  0.],\n",
              "       [ 0., -1.,  4.,  0.,  0.,  0.,  0.,  0.,  0.,  0.,  0.,  0.],\n",
              "       [ 0.,  0.,  0.,  4.,  0., -1.,  0.,  0.,  0.,  0.,  0.,  0.],\n",
              "       [ 0.,  0.,  0.,  0.,  4.,  0., -1.,  0.,  0.,  0.,  0.,  0.],\n",
              "       [ 0.,  0.,  0., -1.,  0.,  4.,  0., -1.,  0.,  0.,  0.,  0.],\n",
              "       [ 0.,  0.,  0.,  0., -1.,  0.,  4.,  0., -1.,  0.,  0.,  0.],\n",
              "       [ 0.,  0.,  0.,  0.,  0., -1.,  0.,  4.,  0.,  0.,  0.,  0.],\n",
              "       [ 0.,  0.,  0.,  0.,  0.,  0., -1.,  0.,  4.,  0.,  0.,  0.],\n",
              "       [ 0.,  0.,  0.,  0.,  0.,  0.,  0.,  0.,  0.,  4., -1.,  0.],\n",
              "       [ 0.,  0.,  0.,  0.,  0.,  0.,  0.,  0.,  0., -1.,  4., -1.],\n",
              "       [ 0.,  0.,  0.,  0.,  0.,  0.,  0.,  0.,  0.,  0., -1.,  4.]])"
            ]
          },
          "execution_count": 31,
          "metadata": {},
          "output_type": "execute_result"
        }
      ],
      "source": [
        "B.toarray()"
      ]
    },
    {
      "cell_type": "code",
      "execution_count": 34,
      "metadata": {},
      "outputs": [
        {
          "data": {
            "text/plain": [
              "array([2, 3, 2, 2, 2, 3, 3, 2, 2, 2, 3, 2], dtype=int32)"
            ]
          },
          "execution_count": 34,
          "metadata": {},
          "output_type": "execute_result"
        }
      ],
      "source": [
        "np.diff(B.indptr)"
      ]
    },
    {
      "cell_type": "code",
      "execution_count": null,
      "metadata": {},
      "outputs": [],
      "source": []
    }
  ],
  "metadata": {
    "kernelspec": {
      "display_name": "Python 3",
      "language": "python",
      "name": "python3"
    },
    "language_info": {
      "codemirror_mode": {
        "name": "ipython",
        "version": 3
      },
      "file_extension": ".py",
      "mimetype": "text/x-python",
      "name": "python",
      "nbconvert_exporter": "python",
      "pygments_lexer": "ipython3",
      "version": "3.8.5"
    }
  },
  "nbformat": 4,
  "nbformat_minor": 4
}