{
  "cells": [
    {
      "cell_type": "code",
      "execution_count": 1,
      "metadata": {},
      "outputs": [],
      "source": [
        "import numpy as np\n",
        "import matplotlib.pyplot as plt\n",
        "from mpl_toolkits.mplot3d import Axes3D\n",
        "%matplotlib inline"
      ]
    },
    {
      "cell_type": "code",
      "execution_count": 2,
      "metadata": {},
      "outputs": [
        {
          "data": {
            "text/plain": [
              "(array([ 2., -2.]),\n",
              " array([[ 1.        , -0.24253563],\n",
              "        [ 0.        ,  0.9701425 ]]))"
            ]
          },
          "execution_count": 2,
          "metadata": {},
          "output_type": "execute_result"
        }
      ],
      "source": [
        "np.linalg.eig([[2,1],[0,-2]])"
      ]
    },
    {
      "cell_type": "code",
      "execution_count": null,
      "metadata": {},
      "outputs": [],
      "source": [
        "seed = 34\n",
        "np.random.seed(seed)\n",
        "A = np.random.rand(3,2)\n",
        "I = np.eye(3)\n",
        "P = A @ np.linalg.inv(A.T @ A) @ A.T\n",
        "\n",
        "x = np.random.rand(3,1000)\n",
        "y = P @ x\n",
        "w = (I - P) @ x\n",
        "\n",
        "mmax = np.amax(np.maximum(y, w), axis=1)\n",
        "mmin = np.amin(np.minimum(y, w), axis=1)\n",
        "\n",
        "fig = plt.figure()\n",
        "ax = fig.add_subplot(111, projection='3d')\n",
        "ax.scatter(y[0,:], y[1,:], y[2,:], c='r')\n",
        "ax.scatter(w[0,:], w[1,:], w[2,:], c='b')\n",
        "ax.set_xlabel('x')\n",
        "ax.set_ylabel('y')"
      ]
    },
    {
      "cell_type": "code",
      "execution_count": null,
      "metadata": {},
      "outputs": [],
      "source": [
        "np.random.seed(seed)\n",
        "A = np.random.rand(3,2)\n",
        "\n",
        "U, s, VT = np.linalg.svd(A)\n",
        "\n",
        "x = np.random.rand(2,1000)\n",
        "y = U[:,:2] @ x\n",
        "\n",
        "w = U[:,-1].reshape((3,1)) @ np.random.rand(1000).reshape((1,1000))\n",
        "\n",
        "mmax = np.amax(np.maximum(y, w), axis=1)\n",
        "mmin = np.amin(np.minimum(y, w), axis=1)\n",
        "\n",
        "fig = plt.figure()\n",
        "ax = fig.add_subplot(111, projection='3d')\n",
        "ax.scatter(y[0,:], y[1,:], y[2,:], c='r')\n",
        "ax.scatter(w[0,:], w[1,:], w[2,:], c='b')\n",
        "ax.set_xlabel('x')\n",
        "ax.set_ylabel('y')"
      ]
    }
  ],
  "metadata": {
    "kernelspec": {
      "display_name": "Python 3",
      "language": "python",
      "name": "python3"
    },
    "language_info": {
      "codemirror_mode": {
        "name": "ipython",
        "version": 3
      },
      "file_extension": ".py",
      "mimetype": "text/x-python",
      "name": "python",
      "nbconvert_exporter": "python",
      "pygments_lexer": "ipython3",
      "version": "3.8.5"
    }
  },
  "nbformat": 4,
  "nbformat_minor": 4
}