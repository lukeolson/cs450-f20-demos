{
  "cells": [
    {
      "cell_type": "markdown",
      "metadata": {},
      "source": [
        "# Issues with the normal equations"
      ]
    },
    {
      "cell_type": "code",
      "execution_count": 1,
      "metadata": {
        "collapsed": false,
        "jupyter": {
          "outputs_hidden": false
        }
      },
      "outputs": [],
      "source": [
        "import numpy as np\n",
        "import numpy.linalg as la"
      ]
    },
    {
      "cell_type": "markdown",
      "metadata": {},
      "source": [
        "Here's an example matrix to use with the normal equations:"
      ]
    },
    {
      "cell_type": "code",
      "execution_count": 4,
      "metadata": {
        "collapsed": false,
        "jupyter": {
          "outputs_hidden": false
        }
      },
      "outputs": [
        {
          "name": "stdout",
          "output_type": "stream",
          "text": [
            "[[1.e+00 1.e+00]\n",
            " [1.e-10 0.e+00]\n",
            " [0.e+00 1.e-10]]\n",
            "[[1. 1.]\n",
            " [1. 1.]]\n"
          ]
        }
      ],
      "source": [
        "eps = 1e-10  # set to 1e-5, 1e-10\n",
        "\n",
        "A = np.array([\n",
        "        [1, 1],\n",
        "        [eps, 0],\n",
        "        [0, eps],\n",
        "        ])\n",
        "\n",
        "np.set_printoptions(precision=20)\n",
        "print(A)\n",
        "print(A.T @ A)"
      ]
    },
    {
      "cell_type": "markdown",
      "metadata": {},
      "source": [
        "* What do you notice about the entries of $A^T A$?"
      ]
    },
    {
      "cell_type": "code",
      "execution_count": 6,
      "metadata": {
        "collapsed": false,
        "jupyter": {
          "outputs_hidden": false
        }
      },
      "outputs": [
        {
          "name": "stdout",
          "output_type": "stream",
          "text": [
            "[[-4.0462659096986936e-01 -4.2764755537193881e+00 -3.0324062801022200e+02\n",
            "  -2.7820860148621368e+03 -7.3435358523467425e+04]\n",
            " [-1.3859203125991901e+00  4.8928286887210648e+00 -1.5974714430993816e+02\n",
            "   6.7902658893763555e+03 -3.8513384354574606e+04]\n",
            " [ 1.5709475692669641e+00  2.2513301597131527e+01  9.3117911636259461e+00\n",
            "   2.8663859130018873e+03 -7.8382809809072729e+04]\n",
            " [ 3.7737484605047550e-01 -5.3019648871685497e-02 -3.4226646109806080e+02\n",
            "  -6.4695789862728452e+03 -3.3541865918005024e+04]\n",
            " [-8.6552385750063618e-02  2.6989356657705361e+01  9.9193170947773879e+01\n",
            "  -3.3438402325102334e+02 -5.6518409721110620e+04]]\n",
            "78701.17330588339\n"
          ]
        }
      ],
      "source": [
        "n = 5\n",
        "\n",
        "A = np.random.randn(5, 5) * 10**-np.linspace(0, -5, n)\n",
        "print(A)\n",
        "print(la.cond(A))"
      ]
    },
    {
      "cell_type": "code",
      "execution_count": 7,
      "metadata": {
        "collapsed": false,
        "jupyter": {
          "outputs_hidden": false
        }
      },
      "outputs": [
        {
          "data": {
            "text/plain": [
              "6193874679.404019"
            ]
          },
          "execution_count": 7,
          "metadata": {},
          "output_type": "execute_result"
        }
      ],
      "source": [
        "la.cond(np.dot(A.T, A))"
      ]
    },
    {
      "cell_type": "markdown",
      "metadata": {},
      "source": [
        "* What do you notice about the condition number?\n",
        "* What's a general bound? $\\operatorname{cond}(AB)\\le \\dots$?"
      ]
    },
    {
      "cell_type": "code",
      "execution_count": 8,
      "metadata": {},
      "outputs": [
        {
          "data": {
            "text/plain": [
              "6193874679.7226925"
            ]
          },
          "execution_count": 8,
          "metadata": {},
          "output_type": "execute_result"
        }
      ],
      "source": [
        "78701.17330588339**2"
      ]
    },
    {
      "cell_type": "code",
      "execution_count": null,
      "metadata": {},
      "outputs": [],
      "source": []
    }
  ],
  "metadata": {
    "kernelspec": {
      "display_name": "Python 3",
      "language": "python",
      "name": "python3"
    },
    "language_info": {
      "codemirror_mode": {
        "name": "ipython",
        "version": 3
      },
      "file_extension": ".py",
      "mimetype": "text/x-python",
      "name": "python",
      "nbconvert_exporter": "python",
      "pygments_lexer": "ipython3",
      "version": "3.8.5"
    }
  },
  "nbformat": 4,
  "nbformat_minor": 4
}