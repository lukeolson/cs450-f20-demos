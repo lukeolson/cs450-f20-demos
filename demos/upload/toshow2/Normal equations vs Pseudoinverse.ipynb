{
  "cells": [
    {
      "cell_type": "markdown",
      "metadata": {},
      "source": [
        "# Normal Equations vs Pseudoinverse"
      ]
    },
    {
      "cell_type": "code",
      "execution_count": 1,
      "metadata": {
        "collapsed": false,
        "jupyter": {
          "outputs_hidden": false
        }
      },
      "outputs": [],
      "source": [
        "import numpy as np\n",
        "import numpy.linalg as la"
      ]
    },
    {
      "cell_type": "markdown",
      "metadata": {},
      "source": [
        "Here's a simple overdetermined linear system, which we'll solve using both the normal equations and the pseudoinverse:"
      ]
    },
    {
      "cell_type": "code",
      "execution_count": 2,
      "metadata": {
        "collapsed": false,
        "jupyter": {
          "outputs_hidden": false
        },
        "scrolled": true
      },
      "outputs": [],
      "source": [
        "A = np.random.randn(5, 3)\n",
        "b = np.random.randn(5)"
      ]
    },
    {
      "cell_type": "markdown",
      "metadata": {},
      "source": [
        "### Normal Equations\n",
        "\n",
        "Solve $Ax\\cong b$ using the normal equations:"
      ]
    },
    {
      "cell_type": "code",
      "execution_count": 3,
      "metadata": {
        "collapsed": false,
        "jupyter": {
          "outputs_hidden": false
        }
      },
      "outputs": [
        {
          "data": {
            "text/plain": [
              "array([ 0.82294545, -0.29646992,  0.64470835])"
            ]
          },
          "execution_count": 3,
          "metadata": {},
          "output_type": "execute_result"
        }
      ],
      "source": [
        "x1 = la.solve(A.T@A, A.T@b)\n",
        "x1"
      ]
    },
    {
      "cell_type": "markdown",
      "metadata": {},
      "source": [
        "### Pseudoinverse\n",
        "\n",
        "Solve $Ax\\cong b$ using the pseudoinverse:"
      ]
    },
    {
      "cell_type": "code",
      "execution_count": 4,
      "metadata": {
        "collapsed": false,
        "jupyter": {
          "outputs_hidden": false
        }
      },
      "outputs": [
        {
          "name": "stdout",
          "output_type": "stream",
          "text": [
            "[[-0.89908983  0.39719809 -0.18263061 -0.02034633  0.01016074]\n",
            " [ 0.31685562  0.86474015  0.29646864  0.10333053 -0.23077291]\n",
            " [ 0.26103651  0.2609165  -0.63341647 -0.63752742  0.23690689]\n",
            " [ 0.15189883  0.09432106 -0.62119014  0.75607273  0.10250426]\n",
            " [ 0.00516529  0.13222809  0.30275202  0.10402714  0.93808775]]\n",
            "[2.66518665 1.81712361 1.56596661]\n",
            "[[ 0.26389466 -0.22363577  0.9382679 ]\n",
            " [ 0.2407838   0.95722753  0.1604326 ]\n",
            " [ 0.93401433 -0.1835824  -0.30645511]]\n"
          ]
        }
      ],
      "source": [
        "U, sigma, VT = la.svd(A)\n",
        "print(U)\n",
        "print(sigma)\n",
        "print(VT)"
      ]
    },
    {
      "cell_type": "code",
      "execution_count": 5,
      "metadata": {
        "collapsed": false,
        "jupyter": {
          "outputs_hidden": false
        }
      },
      "outputs": [
        {
          "data": {
            "text/plain": [
              "array([[0.37520824, 0.        , 0.        , 0.        , 0.        ],\n",
              "       [0.        , 0.5503203 , 0.        , 0.        , 0.        ],\n",
              "       [0.        , 0.        , 0.63858322, 0.        , 0.        ]])"
            ]
          },
          "execution_count": 5,
          "metadata": {},
          "output_type": "execute_result"
        }
      ],
      "source": [
        "Sigma_inv = np.zeros_like(A.T)\n",
        "Sigma_inv[:3,:3] = np.diag(1/sigma)\n",
        "Sigma_inv"
      ]
    },
    {
      "cell_type": "code",
      "execution_count": 6,
      "metadata": {
        "collapsed": false,
        "jupyter": {
          "outputs_hidden": false
        }
      },
      "outputs": [
        {
          "data": {
            "text/plain": [
              "array([ 0.82294545, -0.29646992,  0.64470835])"
            ]
          },
          "execution_count": 6,
          "metadata": {},
          "output_type": "execute_result"
        }
      ],
      "source": [
        "pinv = VT.T @ Sigma_inv @ U.T\n",
        "x2 = pinv @ b\n",
        "x2"
      ]
    },
    {
      "cell_type": "code",
      "execution_count": 7,
      "metadata": {
        "collapsed": false,
        "jupyter": {
          "outputs_hidden": false
        }
      },
      "outputs": [
        {
          "data": {
            "text/plain": [
              "5.20740757162067e-16"
            ]
          },
          "execution_count": 7,
          "metadata": {},
          "output_type": "execute_result"
        }
      ],
      "source": [
        "la.norm(x1-x2)"
      ]
    },
    {
      "cell_type": "code",
      "execution_count": null,
      "metadata": {},
      "outputs": [],
      "source": []
    }
  ],
  "metadata": {
    "kernelspec": {
      "display_name": "Python 3",
      "language": "python",
      "name": "python3"
    },
    "language_info": {
      "codemirror_mode": {
        "name": "ipython",
        "version": 3
      },
      "file_extension": ".py",
      "mimetype": "text/x-python",
      "name": "python",
      "nbconvert_exporter": "python",
      "pygments_lexer": "ipython3",
      "version": "3.8.5"
    }
  },
  "nbformat": 4,
  "nbformat_minor": 4
}