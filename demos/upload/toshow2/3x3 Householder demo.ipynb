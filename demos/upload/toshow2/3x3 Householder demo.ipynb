{
  "cells": [
    {
      "cell_type": "markdown",
      "metadata": {},
      "source": [
        "# 3x3 Householder QR Demo"
      ]
    },
    {
      "cell_type": "markdown",
      "metadata": {},
      "source": [
        "This demo constructs a $3\\times 3$ QR factorization using Householder reflectors."
      ]
    },
    {
      "cell_type": "code",
      "execution_count": 11,
      "metadata": {
        "collapsed": false,
        "jupyter": {
          "outputs_hidden": false
        }
      },
      "outputs": [],
      "source": [
        "import numpy as np\n",
        "import numpy.linalg as la"
      ]
    },
    {
      "cell_type": "code",
      "execution_count": 12,
      "metadata": {
        "collapsed": false,
        "jupyter": {
          "outputs_hidden": false
        }
      },
      "outputs": [
        {
          "data": {
            "text/plain": [
              "array([[-0.05841765, -0.03351919, -0.56681095],\n",
              "       [ 1.47098898, -1.64923321,  0.96483702],\n",
              "       [ 0.21379242, -0.53373423, -1.21355024]])"
            ]
          },
          "execution_count": 12,
          "metadata": {},
          "output_type": "execute_result"
        }
      ],
      "source": [
        "n = 3\n",
        "\n",
        "e1 = np.array([1,0,0])\n",
        "e2 = np.array([0,1,0])\n",
        "e3 = np.array([0,0,1])\n",
        "\n",
        "A = np.random.randn(n, n)\n",
        "A"
      ]
    },
    {
      "cell_type": "markdown",
      "metadata": {},
      "source": [
        "Householder reflector:\n",
        "$$I-2\\frac{vv^T}{v^Tv}$$\n",
        "\n",
        "Choose $v=a-\\|a\\|e_1$."
      ]
    },
    {
      "cell_type": "code",
      "execution_count": 13,
      "metadata": {
        "collapsed": false,
        "jupyter": {
          "outputs_hidden": false
        }
      },
      "outputs": [],
      "source": [
        "a = A[:, 0]\n",
        "v = a-la.norm(a)*e1\n",
        "\n",
        "H1 = np.eye(3) - 2*np.outer(v, v)/(v@v)"
      ]
    },
    {
      "cell_type": "code",
      "execution_count": 14,
      "metadata": {
        "collapsed": false,
        "jupyter": {
          "outputs_hidden": false
        }
      },
      "outputs": [
        {
          "data": {
            "text/plain": [
              "array([[ 1.48759147e+00, -1.70621716e+00,  8.01919453e-01],\n",
              "       [ 1.77601596e-16, -5.77029662e-02, -3.37475690e-01],\n",
              "       [ 2.81121599e-17, -3.02422438e-01, -1.40282738e+00]])"
            ]
          },
          "execution_count": 14,
          "metadata": {},
          "output_type": "execute_result"
        }
      ],
      "source": [
        "A1 = H1 @ A\n",
        "A1"
      ]
    },
    {
      "cell_type": "markdown",
      "metadata": {},
      "source": [
        "NB: Never build full Householder matrices in actual code! (Why? How?)"
      ]
    },
    {
      "cell_type": "code",
      "execution_count": 17,
      "metadata": {
        "collapsed": false,
        "jupyter": {
          "outputs_hidden": false
        }
      },
      "outputs": [],
      "source": [
        "a = A1[:, 1].copy()\n",
        "a[0] = 0\n",
        "v = a-la.norm(a)*e2\n",
        "\n",
        "H2 = np.eye(3) - 2*np.outer(v, v)/(v@v)"
      ]
    },
    {
      "cell_type": "code",
      "execution_count": 18,
      "metadata": {
        "collapsed": false,
        "jupyter": {
          "outputs_hidden": false
        }
      },
      "outputs": [
        {
          "data": {
            "text/plain": [
              "array([[ 1.48759147e+00, -1.70621716e+00,  8.01919453e-01],\n",
              "       [-6.09003466e-17,  3.07878163e-01,  1.44121889e+00],\n",
              "       [-1.69185603e-16,  2.07475103e-17,  6.85755676e-02]])"
            ]
          },
          "execution_count": 18,
          "metadata": {},
          "output_type": "execute_result"
        }
      ],
      "source": [
        "R = H2 @ A1\n",
        "R"
      ]
    },
    {
      "cell_type": "code",
      "execution_count": 9,
      "metadata": {
        "collapsed": false,
        "jupyter": {
          "outputs_hidden": false
        },
        "scrolled": true
      },
      "outputs": [
        {
          "data": {
            "text/plain": [
              "4.3177542613803813e-16"
            ]
          },
          "execution_count": 9,
          "metadata": {},
          "output_type": "execute_result"
        }
      ],
      "source": [
        "Q = np.dot(H2, H1).T\n",
        "la.norm(np.dot(Q, R) - A)"
      ]
    },
    {
      "cell_type": "code",
      "execution_count": 10,
      "metadata": {},
      "outputs": [
        {
          "data": {
            "text/plain": [
              "array([[ 1.00000000e+00, -8.26853021e-17,  5.83068246e-17],\n",
              "       [-8.26853021e-17,  1.00000000e+00,  1.59500395e-16],\n",
              "       [ 5.83068246e-17,  1.59500395e-16,  1.00000000e+00]])"
            ]
          },
          "execution_count": 10,
          "metadata": {},
          "output_type": "execute_result"
        }
      ],
      "source": [
        "Q.T @ Q"
      ]
    },
    {
      "cell_type": "code",
      "execution_count": null,
      "metadata": {},
      "outputs": [],
      "source": []
    }
  ],
  "metadata": {
    "kernelspec": {
      "display_name": "Python 3",
      "language": "python",
      "name": "python3"
    },
    "language_info": {
      "codemirror_mode": {
        "name": "ipython",
        "version": 3
      },
      "file_extension": ".py",
      "mimetype": "text/x-python",
      "name": "python",
      "nbconvert_exporter": "python",
      "pygments_lexer": "ipython3",
      "version": "3.8.5"
    }
  },
  "nbformat": 4,
  "nbformat_minor": 4
}