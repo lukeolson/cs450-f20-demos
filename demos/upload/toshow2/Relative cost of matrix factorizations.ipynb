{
  "cells": [
    {
      "cell_type": "markdown",
      "metadata": {},
      "source": [
        "# Relative cost of matrix factorizations"
      ]
    },
    {
      "cell_type": "code",
      "execution_count": 1,
      "metadata": {
        "collapsed": false,
        "jupyter": {
          "outputs_hidden": false
        }
      },
      "outputs": [],
      "source": [
        "import numpy as np\n",
        "import numpy.linalg as npla\n",
        "import scipy.linalg as spla\n",
        "\n",
        "import matplotlib.pyplot as pt\n",
        "\n",
        "from time import time"
      ]
    },
    {
      "cell_type": "code",
      "execution_count": 2,
      "metadata": {
        "collapsed": false,
        "jupyter": {
          "outputs_hidden": false
        }
      },
      "outputs": [
        {
          "data": {
            "text/plain": [
              "array([  10,   14,   20,   30,   43,   63,   92,  133,  193,  279,  404,\n",
              "        585,  848, 1228, 1778], dtype=int32)"
            ]
          },
          "execution_count": 2,
          "metadata": {},
          "output_type": "execute_result"
        }
      ],
      "source": [
        "n_values = (10**np.linspace(1, 3.25, 15)).astype(np.int32)\n",
        "n_values"
      ]
    },
    {
      "cell_type": "code",
      "execution_count": 9,
      "metadata": {
        "collapsed": false,
        "jupyter": {
          "outputs_hidden": false
        }
      },
      "outputs": [
        {
          "name": "stdout",
          "output_type": "stream",
          "text": [
            "-----> lu\n",
            "10\n",
            "14\n",
            "20\n",
            "30\n",
            "43\n",
            "63\n",
            "92\n",
            "133\n",
            "193\n",
            "279\n",
            "404\n",
            "585\n",
            "848\n",
            "1228\n",
            "1778\n",
            "-----> qr\n",
            "10\n",
            "14\n",
            "20\n",
            "30\n",
            "43\n",
            "63\n",
            "92\n",
            "133\n",
            "193\n",
            "279\n",
            "404\n",
            "585\n",
            "848\n",
            "1228\n",
            "1778\n",
            "-----> svd\n",
            "10\n",
            "14\n",
            "20\n",
            "30\n",
            "43\n",
            "63\n",
            "92\n",
            "133\n",
            "193\n",
            "279\n",
            "404\n",
            "585\n",
            "848\n",
            "1228\n",
            "1778\n"
          ]
        },
        {
          "data": {
            "text/plain": [
              "<matplotlib.text.Text at 0x7f846db8ea90>"
            ]
          },
          "execution_count": 9,
          "metadata": {},
          "output_type": "execute_result"
        },
        {
          "data": {
            "image/png": "[encoded data removed]",
            "text/plain": [
              "<matplotlib.figure.Figure at 0x7f846dcafe48>"
            ]
          },
          "metadata": {},
          "output_type": "display_data"
        }
      ],
      "source": [
        "for name, f in [\n",
        "        (\"lu\", spla.lu_factor),\n",
        "        (\"qr\", npla.qr),\n",
        "        (\"svd\", npla.svd)\n",
        "        ]:\n",
        "\n",
        "    times = []\n",
        "    print(\"----->\", name)\n",
        "    \n",
        "    for n in n_values:\n",
        "        print(n)\n",
        "\n",
        "        A = np.random.randn(n, n)\n",
        "        \n",
        "        start_time = time()\n",
        "        f(A)\n",
        "        times.append(time() - start_time)\n",
        "        \n",
        "    pt.plot(n_values, times, label=name)\n",
        "\n",
        "pt.grid()\n",
        "pt.legend(loc=\"best\")\n",
        "pt.xlabel(\"Matrix size $n$\")\n",
        "pt.ylabel(\"Wall time [s]\")"
      ]
    },
    {
      "cell_type": "markdown",
      "metadata": {},
      "source": [
        "* The faster algorithms make the slower ones look bad. But... it's all relative.\n",
        "* Is there a better way of plotting this?\n",
        "* Can we see the asymptotic cost ($O(n^3)$) of these algorithms from the plot?"
      ]
    }
  ],
  "metadata": {
    "kernelspec": {
      "display_name": "Python 3",
      "language": "python",
      "name": "python3"
    },
    "language_info": {
      "codemirror_mode": {
        "name": "ipython",
        "version": 3
      },
      "file_extension": ".py",
      "mimetype": "text/x-python",
      "name": "python",
      "nbconvert_exporter": "python",
      "pygments_lexer": "ipython3",
      "version": "3.8.5"
    }
  },
  "nbformat": 4,
  "nbformat_minor": 4
}