{
  "cells": [
    {
      "cell_type": "code",
      "execution_count": 1,
      "metadata": {},
      "outputs": [],
      "source": [
        "import numpy as np\n",
        "import matplotlib.pyplot as plt\n",
        "import scipy.linalg as sla\n",
        "%matplotlib inline"
      ]
    },
    {
      "cell_type": "code",
      "execution_count": 2,
      "metadata": {},
      "outputs": [],
      "source": [
        "A = np.random.rand(5, 5)\n",
        "x = np.array([1.,2,3,4,5])\n",
        "b = A @ x"
      ]
    },
    {
      "cell_type": "code",
      "execution_count": 3,
      "metadata": {},
      "outputs": [],
      "source": [
        "P, L, U = sla.lu(A)"
      ]
    },
    {
      "cell_type": "code",
      "execution_count": 5,
      "metadata": {},
      "outputs": [
        {
          "data": {
            "text/plain": [
              "array([[-3.46944695e-18,  0.00000000e+00,  0.00000000e+00,\n",
              "         0.00000000e+00,  0.00000000e+00],\n",
              "       [ 0.00000000e+00,  0.00000000e+00,  0.00000000e+00,\n",
              "         0.00000000e+00,  0.00000000e+00],\n",
              "       [ 0.00000000e+00,  0.00000000e+00,  0.00000000e+00,\n",
              "         0.00000000e+00,  0.00000000e+00],\n",
              "       [ 0.00000000e+00,  5.55111512e-17,  1.21430643e-17,\n",
              "         0.00000000e+00, -5.55111512e-17],\n",
              "       [ 0.00000000e+00,  0.00000000e+00, -1.11022302e-16,\n",
              "        -1.11022302e-16,  0.00000000e+00]])"
            ]
          },
          "execution_count": 5,
          "metadata": {},
          "output_type": "execute_result"
        }
      ],
      "source": [
        "A - P @ L @ U"
      ]
    },
    {
      "cell_type": "code",
      "execution_count": 7,
      "metadata": {},
      "outputs": [
        {
          "data": {
            "text/plain": [
              "array([[1., 0., 0., 0., 0.],\n",
              "       [0., 1., 0., 0., 0.],\n",
              "       [0., 0., 1., 0., 0.],\n",
              "       [0., 0., 0., 1., 0.],\n",
              "       [0., 0., 0., 0., 1.]])"
            ]
          },
          "execution_count": 7,
          "metadata": {},
          "output_type": "execute_result"
        }
      ],
      "source": [
        "P.T @ P"
      ]
    },
    {
      "cell_type": "code",
      "execution_count": 10,
      "metadata": {},
      "outputs": [
        {
          "data": {
            "text/plain": [
              "array([1., 2., 3., 4., 5.])"
            ]
          },
          "execution_count": 10,
          "metadata": {},
          "output_type": "execute_result"
        }
      ],
      "source": [
        "y = sla.solve_triangular(L, P.T @ b, lower=True, unit_diagonal=True)\n",
        "x = sla.solve_triangular(U, y)\n",
        "x"
      ]
    },
    {
      "cell_type": "code",
      "execution_count": null,
      "metadata": {},
      "outputs": [],
      "source": [
        "P"
      ]
    },
    {
      "cell_type": "code",
      "execution_count": null,
      "metadata": {},
      "outputs": [],
      "source": [
        "P @ b"
      ]
    },
    {
      "cell_type": "code",
      "execution_count": 4,
      "metadata": {},
      "outputs": [
        {
          "data": {
            "text/plain": [
              "\u001b[0;31mSignature:\u001b[0m \u001b[0msla\u001b[0m\u001b[0;34m.\u001b[0m\u001b[0mlu\u001b[0m\u001b[0;34m(\u001b[0m\u001b[0ma\u001b[0m\u001b[0;34m,\u001b[0m \u001b[0mpermute_l\u001b[0m\u001b[0;34m=\u001b[0m\u001b[0;32mFalse\u001b[0m\u001b[0;34m,\u001b[0m \u001b[0moverwrite_a\u001b[0m\u001b[0;34m=\u001b[0m\u001b[0;32mFalse\u001b[0m\u001b[0;34m,\u001b[0m \u001b[0mcheck_finite\u001b[0m\u001b[0;34m=\u001b[0m\u001b[0;32mTrue\u001b[0m\u001b[0;34m)\u001b[0m\u001b[0;34m\u001b[0m\u001b[0;34m\u001b[0m\u001b[0m\n",
              "\u001b[0;31mDocstring:\u001b[0m\n",
              "Compute pivoted LU decomposition of a matrix.\n",
              "\n",
              "The decomposition is::\n",
              "\n",
              "    A = P L U\n",
              "\n",
              "where P is a permutation matrix, L lower triangular with unit\n",
              "diagonal elements, and U upper triangular.\n",
              "\n",
              "Parameters\n",
              "----------\n",
              "a : (M, N) array_like\n",
              "    Array to decompose\n",
              "permute_l : bool, optional\n",
              "    Perform the multiplication P*L (Default: do not permute)\n",
              "overwrite_a : bool, optional\n",
              "    Whether to overwrite data in a (may improve performance)\n",
              "check_finite : bool, optional\n",
              "    Whether to check that the input matrix contains only finite numbers.\n",
              "    Disabling may give a performance gain, but may result in problems\n",
              "    (crashes, non-termination) if the inputs do contain infinities or NaNs.\n",
              "\n",
              "Returns\n",
              "-------\n",
              "**(If permute_l == False)**\n",
              "\n",
              "p : (M, M) ndarray\n",
              "    Permutation matrix\n",
              "l : (M, K) ndarray\n",
              "    Lower triangular or trapezoidal matrix with unit diagonal.\n",
              "    K = min(M, N)\n",
              "u : (K, N) ndarray\n",
              "    Upper triangular or trapezoidal matrix\n",
              "\n",
              "**(If permute_l == True)**\n",
              "\n",
              "pl : (M, K) ndarray\n",
              "    Permuted L matrix.\n",
              "    K = min(M, N)\n",
              "u : (K, N) ndarray\n",
              "    Upper triangular or trapezoidal matrix\n",
              "\n",
              "Notes\n",
              "-----\n",
              "This is a LU factorization routine written for SciPy.\n",
              "\n",
              "Examples\n",
              "--------\n",
              ">>> from scipy.linalg import lu\n",
              ">>> A = np.array([[2, 5, 8, 7], [5, 2, 2, 8], [7, 5, 6, 6], [5, 4, 4, 8]])\n",
              ">>> p, l, u = lu(A)\n",
              ">>> np.allclose(A - p @ l @ u, np.zeros((4, 4)))\n",
              "True\n",
              "\u001b[0;31mFile:\u001b[0m      ~/.virtualenvs/cs450-f20/lib/python3.8/site-packages/scipy/linalg/decomp_lu.py\n",
              "\u001b[0;31mType:\u001b[0m      function\n"
            ]
          },
          "metadata": {},
          "output_type": "display_data"
        }
      ],
      "source": [
        "y = sla.lu?"
      ]
    },
    {
      "cell_type": "code",
      "execution_count": null,
      "metadata": {},
      "outputs": [],
      "source": [
        "y = sla.lu"
      ]
    },
    {
      "cell_type": "code",
      "execution_count": null,
      "metadata": {},
      "outputs": [],
      "source": []
    }
  ],
  "metadata": {
    "kernelspec": {
      "display_name": "Python 3",
      "language": "python",
      "name": "python3"
    },
    "language_info": {
      "codemirror_mode": {
        "name": "ipython",
        "version": 3
      },
      "file_extension": ".py",
      "mimetype": "text/x-python",
      "name": "python",
      "nbconvert_exporter": "python",
      "pygments_lexer": "ipython3",
      "version": "3.8.5"
    }
  },
  "nbformat": 4,
  "nbformat_minor": 4
}