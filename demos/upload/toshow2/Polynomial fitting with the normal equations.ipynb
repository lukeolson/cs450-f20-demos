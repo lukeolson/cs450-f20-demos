{
  "cells": [
    {
      "cell_type": "markdown",
      "metadata": {},
      "source": [
        "# Polynomial fitting with the normal equations"
      ]
    },
    {
      "cell_type": "code",
      "execution_count": null,
      "metadata": {
        "collapsed": false,
        "jupyter": {
          "outputs_hidden": false
        }
      },
      "outputs": [],
      "source": [
        "import numpy as np\n",
        "import numpy.linalg as la\n",
        "import matplotlib.pyplot as pt"
      ]
    },
    {
      "cell_type": "markdown",
      "metadata": {},
      "source": [
        "In this demo, we will produce data from a simple parabola as a \"model\" and try to recover the \"unknown\" parameters $\\alpha$, $\\beta$, and $\\gamma$ using least squares."
      ]
    },
    {
      "cell_type": "code",
      "execution_count": null,
      "metadata": {
        "collapsed": false,
        "jupyter": {
          "outputs_hidden": false
        }
      },
      "outputs": [],
      "source": [
        "alpha = 3\n",
        "beta = 2\n",
        "gamma = 2\n",
        "\n",
        "def f(x):\n",
        "    return alpha*x**2 + beta*x + gamma\n",
        "\n",
        "plot_grid = np.linspace(-3, 3, 100)\n",
        "\n",
        "pt.plot(plot_grid, f(plot_grid))"
      ]
    },
    {
      "cell_type": "code",
      "execution_count": null,
      "metadata": {
        "collapsed": false,
        "jupyter": {
          "outputs_hidden": false
        }
      },
      "outputs": [],
      "source": [
        "npts = 5\n",
        "\n",
        "np.random.seed(22)\n",
        "points = np.linspace(-2, 2, npts) + np.random.randn(npts)\n",
        "values = f(points) + 0.3*np.random.randn(npts)*f(points)\n",
        "\n",
        "pt.plot(plot_grid, f(plot_grid))\n",
        "pt.plot(points, values, \"o\")"
      ]
    },
    {
      "cell_type": "markdown",
      "metadata": {},
      "source": [
        "Now build the Vandermonde matrix:"
      ]
    },
    {
      "cell_type": "code",
      "execution_count": null,
      "metadata": {
        "collapsed": false,
        "jupyter": {
          "outputs_hidden": false
        }
      },
      "outputs": [],
      "source": [
        "A = np.array([\n",
        "    np.ones(npts),\n",
        "    points,\n",
        "    points**2\n",
        "    ]).T\n",
        "print(A)"
      ]
    },
    {
      "cell_type": "markdown",
      "metadata": {},
      "source": [
        "And solve for `x` using the normal equations:"
      ]
    },
    {
      "cell_type": "code",
      "execution_count": null,
      "metadata": {
        "collapsed": false,
        "jupyter": {
          "outputs_hidden": false
        }
      },
      "outputs": [],
      "source": [
        "x = la.solve(A.T@A, A.T@values)\n",
        "x"
      ]
    },
    {
      "cell_type": "markdown",
      "metadata": {},
      "source": [
        "Lastly, pick apart `x` into `alpha_c`, `beta_c`, and `gamma_c`:"
      ]
    },
    {
      "cell_type": "code",
      "execution_count": null,
      "metadata": {},
      "outputs": [],
      "source": [
        "gamma_c, beta_c, alpha_c = x"
      ]
    },
    {
      "cell_type": "code",
      "execution_count": null,
      "metadata": {
        "collapsed": false,
        "jupyter": {
          "outputs_hidden": false
        }
      },
      "outputs": [],
      "source": [
        "print(alpha, alpha_c)\n",
        "print(beta, beta_c)\n",
        "print(gamma, gamma_c)"
      ]
    },
    {
      "cell_type": "code",
      "execution_count": null,
      "metadata": {
        "collapsed": false,
        "jupyter": {
          "outputs_hidden": false
        }
      },
      "outputs": [],
      "source": [
        "def f_c(x):\n",
        "    return alpha_c*x**2 + beta_c*x + gamma_c\n",
        "\n",
        "pt.plot(plot_grid, f(plot_grid), label=\"true\")\n",
        "pt.plot(points, values, \"o\", label=\"data\")\n",
        "pt.plot(plot_grid, f_c(plot_grid), label=\"found\")\n",
        "pt.legend()"
      ]
    },
    {
      "cell_type": "markdown",
      "metadata": {},
      "source": [
        "<!--\n",
        "gamma_c, beta_c, alpha_c = x\n",
        "-->\n",
        "(Edit this cell for solution.)"
      ]
    }
  ],
  "metadata": {
    "kernelspec": {
      "display_name": "Python 3",
      "language": "python",
      "name": "python3"
    },
    "language_info": {
      "codemirror_mode": {
        "name": "ipython",
        "version": 3
      },
      "file_extension": ".py",
      "mimetype": "text/x-python",
      "name": "python",
      "nbconvert_exporter": "python",
      "pygments_lexer": "ipython3",
      "version": "3.8.5"
    }
  },
  "nbformat": 4,
  "nbformat_minor": 4
}