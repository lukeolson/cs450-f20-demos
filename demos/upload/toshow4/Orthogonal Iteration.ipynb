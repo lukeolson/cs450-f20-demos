{
  "cells": [
    {
      "cell_type": "code",
      "execution_count": 1,
      "metadata": {},
      "outputs": [],
      "source": [
        "import numpy as np\n",
        "import matplotlib.pyplot as plt\n",
        "%matplotlib inline\n",
        "plt.style.use('seaborn-talk')"
      ]
    },
    {
      "cell_type": "code",
      "execution_count": 3,
      "metadata": {},
      "outputs": [
        {
          "name": "stdout",
          "output_type": "stream",
          "text": [
            "[[ 0.00e+00  0.00e+00 -2.22e-16  0.00e+00 -2.22e-16]\n",
            " [ 0.00e+00  0.00e+00  0.00e+00  0.00e+00  0.00e+00]\n",
            " [ 2.22e-16  0.00e+00  0.00e+00  5.55e-17 -2.22e-16]\n",
            " [ 0.00e+00  0.00e+00 -5.55e-17  0.00e+00  2.22e-16]\n",
            " [ 2.22e-16  0.00e+00  2.22e-16 -2.22e-16  0.00e+00]]\n",
            "[5. 1. 2. 4. 3.]\n",
            "5.000000000000001 5.000000000000001\n",
            "0.9999999999999983 0.9999999999999983\n",
            "1.999999999999996 1.999999999999996\n",
            "3.9999999999999947 3.9999999999999947\n",
            "2.999999999999998 2.999999999999998\n",
            "[[ 0.58 -0.29 -0.57  0.5  -0.03]\n",
            " [-0.23 -0.6   0.49  0.45 -0.37]\n",
            " [ 0.31  0.52  0.14  0.06 -0.78]\n",
            " [-0.6  -0.11 -0.64 -0.13 -0.44]\n",
            " [-0.39  0.52 -0.04  0.72  0.24]]\n"
          ]
        }
      ],
      "source": [
        "np.random.seed(2222)\n",
        "T, _ = np.linalg.qr(np.random.rand(5,5))\n",
        "A = T.T @ np.diag([5,4,3,2,1]) @ T\n",
        "print(A.T - A)\n",
        "w, v = np.linalg.eig(A)\n",
        "np.set_printoptions(precision=2)\n",
        "print(w)\n",
        "for ww in w:\n",
        "    print(ww, np.abs(ww))\n",
        "print(v)"
      ]
    },
    {
      "cell_type": "code",
      "execution_count": 8,
      "metadata": {},
      "outputs": [
        {
          "name": "stdout",
          "output_type": "stream",
          "text": [
            "[[ 3.31 -0.18  0.49]\n",
            " [-0.18  3.16  1.72]\n",
            " [ 0.49  1.72  3.08]]\n",
            "---------\n",
            "[[3.56 0.15 0.49]\n",
            " [0.15 4.75 0.67]\n",
            " [0.49 0.67 2.23]]\n",
            "---------\n",
            "[[ 3.78  0.3  -0.48]\n",
            " [ 0.3   4.87 -0.18]\n",
            " [-0.48 -0.18  2.75]]\n",
            "---------\n",
            "[[ 3.97  0.39 -0.42]\n",
            " [ 0.39  4.83 -0.03]\n",
            " [-0.42 -0.03  2.97]]\n",
            "---------\n",
            "[[ 4.14  0.46 -0.33]\n",
            " [ 0.46  4.74  0.04]\n",
            " [-0.33  0.04  3.02]]\n",
            "---------\n",
            "[[ 4.29  0.5  -0.25]\n",
            " [ 0.5   4.64  0.08]\n",
            " [-0.25  0.08  3.03]]\n",
            "---------\n",
            "[[ 4.43  0.52  0.17]\n",
            " [ 0.52  4.53 -0.1 ]\n",
            " [ 0.17 -0.1   3.02]]\n",
            "---------\n",
            "[[ 4.56  0.51  0.12]\n",
            " [ 0.51  4.41 -0.09]\n",
            " [ 0.12 -0.09  3.01]]\n",
            "---------\n",
            "[[ 4.68  0.47  0.08]\n",
            " [ 0.47  4.31 -0.08]\n",
            " [ 0.08 -0.08  3.01]]\n",
            "---------\n",
            "[[ 4.77  0.42  0.05]\n",
            " [ 0.42  4.22 -0.07]\n",
            " [ 0.05 -0.07  3.01]]\n",
            "---------\n",
            "[[ 4.84  0.37  0.03]\n",
            " [ 0.37  4.16 -0.06]\n",
            " [ 0.03 -0.06  3.  ]]\n",
            "---------\n",
            "[[ 4.89  0.31  0.02]\n",
            " [ 0.31  4.11 -0.04]\n",
            " [ 0.02 -0.04  3.  ]]\n",
            "---------\n",
            "[[ 4.93  0.26  0.01]\n",
            " [ 0.26  4.07 -0.03]\n",
            " [ 0.01 -0.03  3.  ]]\n",
            "---------\n",
            "[[ 4.95  0.21  0.01]\n",
            " [ 0.21  4.05 -0.03]\n",
            " [ 0.01 -0.03  3.  ]]\n",
            "---------\n",
            "[[ 4.97e+00  1.72e-01  4.33e-03]\n",
            " [ 1.72e-01  4.03e+00 -1.96e-02]\n",
            " [ 4.33e-03 -1.96e-02  3.00e+00]]\n",
            "---------\n",
            "[[ 4.98e+00  1.39e-01  2.61e-03]\n",
            " [ 1.39e-01  4.02e+00 -1.48e-02]\n",
            " [ 2.61e-03 -1.48e-02  3.00e+00]]\n",
            "---------\n",
            "[[ 4.99e+00  1.12e-01  1.57e-03]\n",
            " [ 1.12e-01  4.01e+00 -1.12e-02]\n",
            " [ 1.57e-03 -1.12e-02  3.00e+00]]\n",
            "---------\n",
            "[[ 4.99e+00  9.01e-02  9.47e-04]\n",
            " [ 9.01e-02  4.01e+00 -8.42e-03]\n",
            " [ 9.47e-04 -8.42e-03  3.00e+00]]\n",
            "---------\n",
            "[[ 4.99e+00  7.23e-02  5.69e-04]\n",
            " [ 7.23e-02  4.01e+00 -6.33e-03]\n",
            " [ 5.69e-04 -6.33e-03  3.00e+00]]\n",
            "---------\n",
            "[[ 5.00e+00  5.79e-02  3.42e-04]\n",
            " [ 5.79e-02  4.00e+00 -4.75e-03]\n",
            " [ 3.42e-04 -4.75e-03  3.00e+00]]\n",
            "---------\n",
            "[[ 5.00e+00  4.64e-02  2.05e-04]\n",
            " [ 4.64e-02  4.00e+00 -3.57e-03]\n",
            " [ 2.05e-04 -3.57e-03  3.00e+00]]\n",
            "---------\n",
            "[[ 5.00e+00  3.72e-02  1.23e-04]\n",
            " [ 3.72e-02  4.00e+00 -2.68e-03]\n",
            " [ 1.23e-04 -2.68e-03  3.00e+00]]\n",
            "---------\n",
            "[[ 5.00e+00  2.97e-02  7.39e-05]\n",
            " [ 2.97e-02  4.00e+00 -2.01e-03]\n",
            " [ 7.39e-05 -2.01e-03  3.00e+00]]\n",
            "---------\n",
            "[[ 5.00e+00  2.38e-02  4.43e-05]\n",
            " [ 2.38e-02  4.00e+00 -1.51e-03]\n",
            " [ 4.43e-05 -1.51e-03  3.00e+00]]\n",
            "---------\n",
            "[[ 5.00e+00  1.90e-02  2.66e-05]\n",
            " [ 1.90e-02  4.00e+00 -1.13e-03]\n",
            " [ 2.66e-05 -1.13e-03  3.00e+00]]\n",
            "---------\n",
            "[[ 5.00e+00  1.52e-02  1.60e-05]\n",
            " [ 1.52e-02  4.00e+00 -8.48e-04]\n",
            " [ 1.60e-05 -8.48e-04  3.00e+00]]\n",
            "---------\n",
            "[[ 5.00e+00  1.22e-02  9.58e-06]\n",
            " [ 1.22e-02  4.00e+00 -6.36e-04]\n",
            " [ 9.58e-06 -6.36e-04  3.00e+00]]\n",
            "---------\n",
            "[[ 5.00e+00  9.75e-03  5.75e-06]\n",
            " [ 9.75e-03  4.00e+00 -4.77e-04]\n",
            " [ 5.75e-06 -4.77e-04  3.00e+00]]\n",
            "---------\n",
            "[[ 5.00e+00  7.80e-03  3.45e-06]\n",
            " [ 7.80e-03  4.00e+00 -3.58e-04]\n",
            " [ 3.45e-06 -3.58e-04  3.00e+00]]\n",
            "---------\n",
            "[[ 5.00e+00  6.24e-03  2.07e-06]\n",
            " [ 6.24e-03  4.00e+00 -2.68e-04]\n",
            " [ 2.07e-06 -2.68e-04  3.00e+00]]\n",
            "---------\n",
            "[[ 5.00e+00  4.99e-03  1.24e-06]\n",
            " [ 4.99e-03  4.00e+00 -2.01e-04]\n",
            " [ 1.24e-06 -2.01e-04  3.00e+00]]\n",
            "---------\n",
            "[[ 5.00e+00  3.99e-03  7.45e-07]\n",
            " [ 3.99e-03  4.00e+00 -1.51e-04]\n",
            " [ 7.45e-07 -1.51e-04  3.00e+00]]\n",
            "---------\n",
            "[[ 5.00e+00  3.20e-03  4.47e-07]\n",
            " [ 3.20e-03  4.00e+00 -1.13e-04]\n",
            " [ 4.47e-07 -1.13e-04  3.00e+00]]\n",
            "---------\n",
            "[[ 5.00e+00  2.56e-03  2.68e-07]\n",
            " [ 2.56e-03  4.00e+00 -8.49e-05]\n",
            " [ 2.68e-07 -8.49e-05  3.00e+00]]\n",
            "---------\n",
            "[[ 5.00e+00  2.05e-03  1.61e-07]\n",
            " [ 2.05e-03  4.00e+00 -6.37e-05]\n",
            " [ 1.61e-07 -6.37e-05  3.00e+00]]\n",
            "---------\n",
            "[[ 5.00e+00  1.64e-03  9.66e-08]\n",
            " [ 1.64e-03  4.00e+00 -4.78e-05]\n",
            " [ 9.66e-08 -4.78e-05  3.00e+00]]\n",
            "---------\n",
            "[[ 5.00e+00  1.31e-03  5.79e-08]\n",
            " [ 1.31e-03  4.00e+00 -3.58e-05]\n",
            " [ 5.79e-08 -3.58e-05  3.00e+00]]\n",
            "---------\n",
            "[[ 5.00e+00  1.05e-03  3.48e-08]\n",
            " [ 1.05e-03  4.00e+00 -2.69e-05]\n",
            " [ 3.48e-08 -2.69e-05  3.00e+00]]\n",
            "---------\n",
            "[[ 5.00e+00  8.38e-04  2.09e-08]\n",
            " [ 8.38e-04  4.00e+00 -2.01e-05]\n",
            " [ 2.09e-08 -2.01e-05  3.00e+00]]\n",
            "---------\n",
            "[[ 5.00e+00  6.70e-04  1.25e-08]\n",
            " [ 6.70e-04  4.00e+00 -1.51e-05]\n",
            " [ 1.25e-08 -1.51e-05  3.00e+00]]\n",
            "---------\n",
            "[[ 5.00e+00  5.36e-04  7.51e-09]\n",
            " [ 5.36e-04  4.00e+00 -1.13e-05]\n",
            " [ 7.51e-09 -1.13e-05  3.00e+00]]\n",
            "---------\n",
            "[[ 5.00e+00  4.29e-04  4.51e-09]\n",
            " [ 4.29e-04  4.00e+00 -8.50e-06]\n",
            " [ 4.51e-09 -8.50e-06  3.00e+00]]\n",
            "---------\n",
            "[[ 5.00e+00  3.43e-04  2.70e-09]\n",
            " [ 3.43e-04  4.00e+00 -6.37e-06]\n",
            " [ 2.70e-09 -6.37e-06  3.00e+00]]\n",
            "---------\n",
            "[[ 5.00e+00  2.75e-04  1.62e-09]\n",
            " [ 2.75e-04  4.00e+00 -4.78e-06]\n",
            " [ 1.62e-09 -4.78e-06  3.00e+00]]\n",
            "---------\n",
            "[[ 5.00e+00  2.20e-04  9.73e-10]\n",
            " [ 2.20e-04  4.00e+00 -3.59e-06]\n",
            " [ 9.73e-10 -3.59e-06  3.00e+00]]\n",
            "---------\n",
            "[[ 5.00e+00  1.76e-04  5.84e-10]\n",
            " [ 1.76e-04  4.00e+00 -2.69e-06]\n",
            " [ 5.84e-10 -2.69e-06  3.00e+00]]\n",
            "---------\n",
            "[[ 5.00e+00  1.41e-04  3.50e-10]\n",
            " [ 1.41e-04  4.00e+00 -2.02e-06]\n",
            " [ 3.50e-10 -2.02e-06  3.00e+00]]\n",
            "---------\n",
            "[[ 5.00e+00  1.12e-04  2.10e-10]\n",
            " [ 1.12e-04  4.00e+00 -1.51e-06]\n",
            " [ 2.10e-10 -1.51e-06  3.00e+00]]\n",
            "---------\n",
            "[[ 5.00e+00  9.00e-05  1.26e-10]\n",
            " [ 9.00e-05  4.00e+00 -1.13e-06]\n",
            " [ 1.26e-10 -1.13e-06  3.00e+00]]\n",
            "---------\n",
            "[[ 5.00e+00  7.20e-05  7.57e-11]\n",
            " [ 7.20e-05  4.00e+00 -8.51e-07]\n",
            " [ 7.57e-11 -8.51e-07  3.00e+00]]\n",
            "---------\n"
          ]
        }
      ],
      "source": [
        "#A = np.random.rand(5,5)\n",
        "X = np.random.rand(5,3)\n",
        "for i in range(50):\n",
        "    Q, R = np.linalg.qr(X, mode='reduced')\n",
        "    X = A @ Q\n",
        "    print(Q.conj().T @ A @ Q)\n",
        "    print('---------')\n",
        "    #print(np.diag(Q.conj().T @ (A @ Q)))"
      ]
    },
    {
      "cell_type": "code",
      "execution_count": null,
      "metadata": {},
      "outputs": [],
      "source": [
        "Q.T @ A @ Q"
      ]
    },
    {
      "cell_type": "markdown",
      "metadata": {},
      "source": [
        "# QR"
      ]
    },
    {
      "cell_type": "code",
      "execution_count": 9,
      "metadata": {},
      "outputs": [
        {
          "name": "stdout",
          "output_type": "stream",
          "text": [
            "[4.4  3.58 3.08 2.52 1.43]\n",
            "[4.71 4.   3.12 2.14 1.03]\n",
            "[4.83 4.07 3.06 2.04 1.  ]\n",
            "[4.89 4.07 3.03 2.02 1.  ]\n",
            "[4.93 4.05 3.02 2.01 1.  ]\n",
            "[4.95 4.04 3.01 2.   1.  ]\n",
            "[4.97 4.03 3.01 2.   1.  ]\n",
            "[4.98 4.02 3.   2.   1.  ]\n",
            "[4.99 4.01 3.   2.   1.  ]\n",
            "[4.99 4.01 3.   2.   1.  ]\n"
          ]
        }
      ],
      "source": [
        "X = A.copy()\n",
        "Qall = np.eye(5)\n",
        "for i in range(10):\n",
        "    Q, R = np.linalg.qr(X)\n",
        "    X = R @ Q # X = Ak = Q.T A Q -> real diagonal (for a real, symm A)\n",
        "    \n",
        "    np.set_printoptions(precision=2)\n",
        "    print(np.diag(X))\n",
        "    \n",
        "    #Qall = Qall @ Q\n",
        "    #print(Qall)"
      ]
    },
    {
      "cell_type": "code",
      "execution_count": 10,
      "metadata": {},
      "outputs": [],
      "source": [
        "from matplotlib.colors import LogNorm"
      ]
    },
    {
      "cell_type": "code",
      "execution_count": 17,
      "metadata": {},
      "outputs": [
        {
          "data": {
            "text/plain": [
              "<matplotlib.colorbar.Colorbar at 0x1192b5400>"
            ]
          },
          "execution_count": 17,
          "metadata": {},
          "output_type": "execute_result"
        },
        {
          "data": {
            "image/png": "[encoded data removed]",
            "text/plain": [
              "<Figure size 864x432 with 11 Axes>"
            ]
          },
          "metadata": {
            "needs_background": "light"
          },
          "output_type": "display_data"
        }
      ],
      "source": [
        "np.random.seed(12112019)\n",
        "niter = 800\n",
        "nprint = 5\n",
        "niterprint = np.floor(niter / nprint)\n",
        "\n",
        "A = np.random.rand(10,10)\n",
        "#A = A + 1j * np.random.rand(10,10)\n",
        "#A = A + A.T\n",
        "X = A.copy()\n",
        "\n",
        "ct = 0\n",
        "f, ax = plt.subplots(2,nprint,sharey=True,figsize=(12,6))\n",
        "for i in range(niter):\n",
        "    Q, R = np.linalg.qr(X)\n",
        "    X = R @ Q # X = Ak = Q.T A Q\n",
        "    \n",
        "    if i % niterprint == 0:\n",
        "        \n",
        "        I, J = np.where(np.abs(X) < 1e-13)\n",
        "        Xtmp = X.copy()\n",
        "        Xtmp[I,J] = 0.0\n",
        "        \n",
        "        im = ax[0,ct].imshow(np.abs(Xtmp.real), cmap=plt.cm.winter, norm=LogNorm())\n",
        "        ax[0,ct].axis('off')\n",
        "        \n",
        "        if np.abs(Xtmp.imag).max() > 1e-13:\n",
        "            im = ax[1,ct].imshow(np.abs(Xtmp.imag), cmap=plt.cm.winter, norm=LogNorm())\n",
        "        ax[1,ct].axis('off')\n",
        "        ct += 1\n",
        "        \n",
        "f.colorbar(im, ax=ax.ravel().tolist(), shrink=0.95)"
      ]
    },
    {
      "cell_type": "code",
      "execution_count": 19,
      "metadata": {},
      "outputs": [
        {
          "data": {
            "text/plain": [
              "<matplotlib.image.AxesImage at 0x1191eb760>"
            ]
          },
          "execution_count": 19,
          "metadata": {},
          "output_type": "execute_result"
        },
        {
          "data": {
            "image/png": "[encoded data removed]",
            "text/plain": [
              "<Figure size 748.8x514.8 with 1 Axes>"
            ]
          },
          "metadata": {
            "needs_background": "light"
          },
          "output_type": "display_data"
        }
      ],
      "source": [
        "plt.imshow(np.abs(Xtmp.real), cmap=plt.cm.winter, norm=LogNorm())"
      ]
    },
    {
      "cell_type": "code",
      "execution_count": 20,
      "metadata": {},
      "outputs": [
        {
          "data": {
            "text/plain": [
              "(array([ 5.06+0.j  ,  0.59+0.j  ,  0.48+0.44j,  0.48-0.44j,  0.16+0.64j,\n",
              "         0.16-0.64j, -0.68+0.31j, -0.68-0.31j, -0.43+0.46j, -0.43-0.46j]),\n",
              " array([[-0.27+0.j  ,  0.14+0.j  , -0.1 +0.18j, -0.1 -0.18j,  0.43+0.j  ,\n",
              "          0.43-0.j  , -0.05+0.23j, -0.05-0.23j, -0.04-0.36j, -0.04+0.36j],\n",
              "        [-0.32+0.j  , -0.42+0.j  , -0.17+0.05j, -0.17-0.05j,  0.21-0.19j,\n",
              "          0.21+0.19j, -0.34-0.22j, -0.34+0.22j,  0.14+0.28j,  0.14-0.28j],\n",
              "        [-0.35+0.j  ,  0.44+0.j  ,  0.21-0.01j,  0.21+0.01j, -0.06+0.19j,\n",
              "         -0.06-0.19j,  0.57+0.j  ,  0.57-0.j  , -0.24-0.38j, -0.24+0.38j],\n",
              "        [-0.31+0.j  ,  0.24+0.j  ,  0.02+0.4j ,  0.02-0.4j ,  0.23+0.28j,\n",
              "          0.23-0.28j, -0.35-0.05j, -0.35+0.05j,  0.14+0.2j ,  0.14-0.2j ],\n",
              "        [-0.3 +0.j  , -0.14+0.j  ,  0.2 -0.07j,  0.2 +0.07j,  0.32-0.25j,\n",
              "          0.32+0.25j,  0.34-0.04j,  0.34+0.04j, -0.45+0.j  , -0.45-0.j  ],\n",
              "        [-0.28+0.j  ,  0.49+0.j  ,  0.55+0.j  ,  0.55-0.j  , -0.08-0.31j,\n",
              "         -0.08+0.31j, -0.37+0.06j, -0.37-0.06j,  0.16+0.09j,  0.16-0.09j],\n",
              "        [-0.4 +0.j  , -0.5 +0.j  , -0.17-0.14j, -0.17+0.14j, -0.28-0.j  ,\n",
              "         -0.28+0.j  ,  0.09+0.15j,  0.09-0.15j,  0.04-0.22j,  0.04+0.22j],\n",
              "        [-0.23+0.j  , -0.04+0.j  , -0.16+0.14j, -0.16-0.14j, -0.21-0.06j,\n",
              "         -0.21+0.06j,  0.16-0.11j,  0.16+0.11j,  0.05+0.26j,  0.05-0.26j],\n",
              "        [-0.3 +0.j  ,  0.  +0.j  ,  0.11-0.39j,  0.11+0.39j, -0.15+0.31j,\n",
              "         -0.15-0.31j, -0.02+0.02j, -0.02-0.02j,  0.25-0.13j,  0.25+0.13j],\n",
              "        [-0.37+0.j  , -0.21+0.j  , -0.28-0.2j , -0.28+0.2j , -0.22-0.11j,\n",
              "         -0.22+0.11j,  0.05-0.06j,  0.05+0.06j, -0.2 +0.17j, -0.2 -0.17j]]))"
            ]
          },
          "execution_count": 20,
          "metadata": {},
          "output_type": "execute_result"
        }
      ],
      "source": [
        "np.linalg.eig(A)"
      ]
    },
    {
      "cell_type": "code",
      "execution_count": 23,
      "metadata": {},
      "outputs": [
        {
          "data": {
            "text/plain": [
              "(array([-0.68+0.31j, -0.68-0.31j]),\n",
              " array([[0.83+0.j  , 0.83-0.j  ],\n",
              "        [0.36-0.43j, 0.36+0.43j]]))"
            ]
          },
          "execution_count": 23,
          "metadata": {},
          "output_type": "execute_result"
        }
      ],
      "source": [
        "np.linalg.eig(X[1:3,1:3])"
      ]
    },
    {
      "cell_type": "code",
      "execution_count": 21,
      "metadata": {},
      "outputs": [
        {
          "data": {
            "text/plain": [
              "5.056067638616204"
            ]
          },
          "execution_count": 21,
          "metadata": {},
          "output_type": "execute_result"
        }
      ],
      "source": [
        "Xtmp[0,0]"
      ]
    },
    {
      "cell_type": "code",
      "execution_count": 22,
      "metadata": {},
      "outputs": [
        {
          "data": {
            "text/plain": [
              "0.5875601310866426"
            ]
          },
          "execution_count": 22,
          "metadata": {},
          "output_type": "execute_result"
        }
      ],
      "source": [
        "Xtmp[9,9]"
      ]
    },
    {
      "cell_type": "code",
      "execution_count": null,
      "metadata": {},
      "outputs": [],
      "source": []
    }
  ],
  "metadata": {
    "kernelspec": {
      "display_name": "Python 3",
      "language": "python",
      "name": "python3"
    },
    "language_info": {
      "codemirror_mode": {
        "name": "ipython",
        "version": 3
      },
      "file_extension": ".py",
      "mimetype": "text/x-python",
      "name": "python",
      "nbconvert_exporter": "python",
      "pygments_lexer": "ipython3",
      "version": "3.8.5"
    }
  },
  "nbformat": 4,
  "nbformat_minor": 4
}