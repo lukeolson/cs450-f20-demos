{
  "cells": [
    {
      "cell_type": "markdown",
      "metadata": {},
      "source": [
        "# Householder Similarity Transforms"
      ]
    },
    {
      "cell_type": "code",
      "execution_count": 1,
      "metadata": {},
      "outputs": [],
      "source": [
        "import numpy as np\n",
        "import numpy.linalg as la\n",
        "\n",
        "np.set_printoptions(precision=2, linewidth=150)"
      ]
    },
    {
      "cell_type": "code",
      "execution_count": 2,
      "metadata": {},
      "outputs": [
        {
          "data": {
            "text/plain": [
              "array([[-1.  ,  0.37, -0.84, -0.87,  0.21,  0.02, -0.61,  0.08],\n",
              "       [ 0.91,  1.56, -0.33, -0.3 , -1.8 ,  1.58, -0.21,  0.34],\n",
              "       [-2.05,  1.17,  0.91, -0.22, -0.14, -0.21,  0.88,  0.86],\n",
              "       [ 0.13, -0.61,  1.05,  0.84, -2.3 , -1.69,  0.23,  0.12],\n",
              "       [-1.08, -0.18,  0.61,  1.  ,  0.91,  0.03, -0.55, -1.32],\n",
              "       [-1.8 ,  0.67,  0.31, -1.03, -0.56,  0.01,  1.72,  0.89],\n",
              "       [-1.26,  1.28, -1.1 ,  0.91, -0.67,  1.23,  1.02, -0.72],\n",
              "       [ 0.43,  1.  ,  0.11,  1.13,  0.04, -0.42, -0.58, -2.47]])"
            ]
          },
          "execution_count": 2,
          "metadata": {},
          "output_type": "execute_result"
        }
      ],
      "source": [
        "n = 8\n",
        "\n",
        "e1 = np.zeros(n); e1[0] = 1\n",
        "e2 = np.zeros(n); e2[1] = 1\n",
        "\n",
        "A = np.random.randn(n, n)\n",
        "A"
      ]
    },
    {
      "cell_type": "markdown",
      "metadata": {},
      "source": [
        "Now try to zero the first column with a similarity transform.\n",
        "\n",
        "## Starting with the first row\n",
        "\n",
        "Lets first try to proceed as in Householder QR, creating a transformation\n",
        "$$H=I-2\\frac{vv^T}{v^Tv}$$\n",
        "where $v = a_1 - ||a_1||_2e_1$ with $a_1$ being the first column of $A$."
      ]
    },
    {
      "cell_type": "code",
      "execution_count": 3,
      "metadata": {},
      "outputs": [],
      "source": [
        "a = A[:, 0].copy()\n",
        "v = a-la.norm(a)*e1\n",
        "\n",
        "H1 = np.eye(n) - 2*np.outer(v, v)/(v@v)"
      ]
    },
    {
      "cell_type": "markdown",
      "metadata": {},
      "source": [
        "We can apply the transformation from the left as in QR to reduce the first column to a multiple of the first elementary vector."
      ]
    },
    {
      "cell_type": "code",
      "execution_count": 4,
      "metadata": {},
      "outputs": [
        {
          "data": {
            "text/plain": [
              "array([[ 3.5 , -1.04, -0.27,  0.37, -0.28, -0.04, -1.54, -0.53],\n",
              "       [ 0.  ,  1.84, -0.44, -0.55, -1.7 ,  1.59, -0.02,  0.46],\n",
              "       [-0.  ,  0.53,  1.16,  0.35, -0.36, -0.24,  0.46,  0.58],\n",
              "       [ 0.  , -0.57,  1.04,  0.81, -2.28, -1.68,  0.26,  0.14],\n",
              "       [-0.  , -0.51,  0.74,  1.29,  0.79,  0.01, -0.78, -1.46],\n",
              "       [-0.  ,  0.11,  0.53, -0.53, -0.76, -0.01,  1.35,  0.64],\n",
              "       [-0.  ,  0.89, -0.95,  1.26, -0.81,  1.21,  0.76, -0.89],\n",
              "       [ 0.  ,  1.14,  0.06,  1.01,  0.08, -0.41, -0.49, -2.42]])"
            ]
          },
          "execution_count": 4,
          "metadata": {},
          "output_type": "execute_result"
        }
      ],
      "source": [
        "(H1@A).round(4)"
      ]
    },
    {
      "cell_type": "markdown",
      "metadata": {},
      "source": [
        "However, to ensure we do not perturb the eigenvalues of $A$, we must also apply the matrix from the right, resulting in a similarity transformation."
      ]
    },
    {
      "cell_type": "code",
      "execution_count": 5,
      "metadata": {},
      "outputs": [
        {
          "data": {
            "text/plain": [
              "array([[-0.5 , -0.22, -2.1 ,  0.48, -1.24, -1.65, -2.66, -0.14],\n",
              "       [ 0.49,  1.75, -0.22, -0.57, -1.58,  1.79,  0.12,  0.42],\n",
              "       [-0.39,  0.61,  0.99,  0.36, -0.45, -0.4 ,  0.35,  0.62],\n",
              "       [ 0.77, -0.72,  1.39,  0.79, -2.1 , -1.38,  0.47,  0.07],\n",
              "       [-0.68, -0.38,  0.44,  1.31,  0.63, -0.26, -0.96, -1.4 ],\n",
              "       [-0.47,  0.2 ,  0.32, -0.52, -0.87, -0.2 ,  1.22,  0.69],\n",
              "       [ 0.08,  0.87, -0.91,  1.25, -0.79,  1.24,  0.78, -0.9 ],\n",
              "       [ 0.37,  1.06,  0.22,  1.  ,  0.17, -0.26, -0.39, -2.45]])"
            ]
          },
          "execution_count": 5,
          "metadata": {},
          "output_type": "execute_result"
        }
      ],
      "source": [
        "(H1@A@H1.T).round(4)"
      ]
    },
    {
      "cell_type": "code",
      "execution_count": 7,
      "metadata": {},
      "outputs": [
        {
          "data": {
            "text/plain": [
              "array([[-0.29,  0.26, -0.59,  0.04, -0.31, -0.51, -0.36,  0.12],\n",
              "       [ 0.26,  0.95,  0.12, -0.01,  0.06,  0.1 ,  0.07, -0.02],\n",
              "       [-0.59,  0.12,  0.73,  0.02, -0.14, -0.23, -0.16,  0.06],\n",
              "       [ 0.04, -0.01,  0.02,  1.  ,  0.01,  0.02,  0.01, -0.  ],\n",
              "       [-0.31,  0.06, -0.14,  0.01,  0.93, -0.12, -0.09,  0.03],\n",
              "       [-0.51,  0.1 , -0.23,  0.02, -0.12,  0.79, -0.14,  0.05],\n",
              "       [-0.36,  0.07, -0.16,  0.01, -0.09, -0.14,  0.9 ,  0.03],\n",
              "       [ 0.12, -0.02,  0.06, -0.  ,  0.03,  0.05,  0.03,  0.99]])"
            ]
          },
          "execution_count": 7,
          "metadata": {},
          "output_type": "execute_result"
        }
      ],
      "source": [
        "H1"
      ]
    },
    {
      "cell_type": "markdown",
      "metadata": {},
      "source": [
        "Note that applying the Householder transformation from the right filled in the elements annihilated by applying it from the left.\n",
        "\n",
        "## Starting in the second row\n",
        "\n",
        "To avoid this, we define the Householder transformation to annihilate elements below the first subdiagonal. That way, the first transformation does not affect the first row when applied from the left, and consequently does not affect the first column when applied for the right, preserving the zeros we've annihilated."
      ]
    },
    {
      "cell_type": "code",
      "execution_count": 8,
      "metadata": {},
      "outputs": [],
      "source": [
        "a = A[:, 0].copy()\n",
        "a[0] = 0\n",
        "v = a-la.norm(a)*e2\n",
        "\n",
        "H2 = np.eye(n) - 2*np.outer(v, v)/(v@v)"
      ]
    },
    {
      "cell_type": "code",
      "execution_count": 9,
      "metadata": {},
      "outputs": [
        {
          "data": {
            "text/plain": [
              "array([[ 1.  ,  0.  ,  0.  ,  0.  ,  0.  ,  0.  ,  0.  ,  0.  ],\n",
              "       [ 0.  ,  0.27, -0.61,  0.04, -0.32, -0.54, -0.37,  0.13],\n",
              "       [ 0.  , -0.61,  0.48,  0.03, -0.27, -0.45, -0.32,  0.11],\n",
              "       [ 0.  ,  0.04,  0.03,  1.  ,  0.02,  0.03,  0.02, -0.01],\n",
              "       [ 0.  , -0.32, -0.27,  0.02,  0.86, -0.24, -0.17,  0.06],\n",
              "       [ 0.  , -0.54, -0.45,  0.03, -0.24,  0.6 , -0.28,  0.09],\n",
              "       [ 0.  , -0.37, -0.32,  0.02, -0.17, -0.28,  0.81,  0.07],\n",
              "       [ 0.  ,  0.13,  0.11, -0.01,  0.06,  0.09,  0.07,  0.98]])"
            ]
          },
          "execution_count": 9,
          "metadata": {},
          "output_type": "execute_result"
        }
      ],
      "source": [
        "H2"
      ]
    },
    {
      "cell_type": "code",
      "execution_count": 10,
      "metadata": {},
      "outputs": [
        {
          "data": {
            "text/plain": [
              "array([[-1.  ,  0.37, -0.84, -0.87,  0.21,  0.02, -0.61,  0.08],\n",
              "       [ 3.35, -0.97, -0.53,  0.12, -0.23, -0.04, -1.79, -0.53],\n",
              "       [-0.  , -0.96,  0.73,  0.14,  1.18, -1.57, -0.45,  0.13],\n",
              "       [ 0.  , -0.47,  1.06,  0.82, -2.38, -1.6 ,  0.32,  0.17],\n",
              "       [-0.  , -1.3 ,  0.52,  1.18,  1.6 , -0.69, -1.25, -1.7 ],\n",
              "       [-0.  , -1.2 ,  0.15, -0.71,  0.59, -1.18,  0.55,  0.24],\n",
              "       [-0.  , -0.03, -1.21,  1.13,  0.13,  0.39,  0.2 , -1.17],\n",
              "       [ 0.  ,  1.45,  0.15,  1.06, -0.24, -0.13, -0.3 , -2.32]])"
            ]
          },
          "execution_count": 10,
          "metadata": {},
          "output_type": "execute_result"
        }
      ],
      "source": [
        "(H2 @ A).round(4)"
      ]
    },
    {
      "cell_type": "code",
      "execution_count": 11,
      "metadata": {},
      "outputs": [
        {
          "data": {
            "text/plain": [
              "array([[-1.  ,  0.74, -0.53, -0.9 ,  0.37,  0.3 , -0.42,  0.01],\n",
              "       [ 3.35,  0.76,  0.93,  0.03,  0.54,  1.24, -0.9 , -0.83],\n",
              "       [-0.  , -0.05,  1.49,  0.09,  1.58, -0.9 ,  0.01, -0.03],\n",
              "       [ 0.  ,  0.78,  2.12,  0.75, -1.83, -0.67,  0.96, -0.05],\n",
              "       [-0.  , -0.52,  1.17,  1.14,  1.95, -0.11, -0.85, -1.84],\n",
              "       [-0.  , -0.18,  1.01, -0.77,  1.05, -0.43,  1.07,  0.06],\n",
              "       [-0.  ,  0.3 , -0.94,  1.11,  0.28,  0.63,  0.37, -1.22],\n",
              "       [ 0.  ,  0.31, -0.81,  1.12, -0.74, -0.97, -0.89, -2.12]])"
            ]
          },
          "execution_count": 11,
          "metadata": {},
          "output_type": "execute_result"
        }
      ],
      "source": [
        "(H2 @ A @ H2.T).round(4)"
      ]
    },
    {
      "cell_type": "markdown",
      "metadata": {},
      "source": [
        "To generalize this process, we continue to eliminate everything below the subdiagonal in the next column and applying the two-sided transformations, finally resulting in an upper-Hessenberg matrix.\n",
        "\n",
        "-----\n",
        "\n",
        "Why does post-multiplying with `H2.T` not destroy the zeros?"
      ]
    },
    {
      "cell_type": "code",
      "execution_count": null,
      "metadata": {},
      "outputs": [],
      "source": [
        "H2.T.round(4)"
      ]
    },
    {
      "cell_type": "code",
      "execution_count": null,
      "metadata": {},
      "outputs": [],
      "source": [
        "v"
      ]
    },
    {
      "cell_type": "code",
      "execution_count": null,
      "metadata": {},
      "outputs": [],
      "source": [
        "H2"
      ]
    },
    {
      "cell_type": "code",
      "execution_count": null,
      "metadata": {},
      "outputs": [],
      "source": []
    }
  ],
  "metadata": {
    "kernelspec": {
      "display_name": "Python 3",
      "language": "python",
      "name": "python3"
    },
    "language_info": {
      "codemirror_mode": {
        "name": "ipython",
        "version": 3
      },
      "file_extension": ".py",
      "mimetype": "text/x-python",
      "name": "python",
      "nbconvert_exporter": "python",
      "pygments_lexer": "ipython3",
      "version": "3.8.5"
    }
  },
  "nbformat": 4,
  "nbformat_minor": 4
}