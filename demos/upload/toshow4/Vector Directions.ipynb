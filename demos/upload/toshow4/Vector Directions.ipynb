{
  "cells": [
    {
      "cell_type": "code",
      "execution_count": 2,
      "metadata": {},
      "outputs": [],
      "source": [
        "import numpy as np\n",
        "from numpy.linalg import eig\n",
        "import matplotlib.pyplot as plt"
      ]
    },
    {
      "cell_type": "code",
      "execution_count": 3,
      "metadata": {},
      "outputs": [],
      "source": [
        "def plot_vectors(V):\n",
        "    base = [0 for v in V]\n",
        "    x = [np.array(v).ravel()[0] for v in V]\n",
        "    y = [np.array(v).ravel()[1] for v in V]\n",
        "    plt.quiver(base, base, x, y, color = ['r', 'b'], angles = 'xy', scale=1.0, scale_units='xy')\n",
        "    maxy = max([abs(i)+1 for i in y])\n",
        "    maxx = max([abs(i)+1 for i in y])\n",
        "    plt.ylim(-1*maxy, maxy)\n",
        "    plt.xlim(-1*maxx, maxx)"
      ]
    },
    {
      "cell_type": "markdown",
      "metadata": {},
      "source": [
        "$A : \\left(\\begin{matrix}\n",
        "    3 & 4\\\\\n",
        "    4 & 3\\\\\n",
        "\\end{matrix}\\right) \\hspace{25pt}\n",
        "x : \\left(\\begin{matrix}\n",
        "    0\\\\\n",
        "    1\\\\\n",
        "\\end{matrix}\\right) \\hspace{25pt}\n",
        "A\\cdot x : \\left(\\begin{matrix}\n",
        "    4\\\\\n",
        "    3\\\\\n",
        "\\end{matrix}\\right)$"
      ]
    },
    {
      "cell_type": "code",
      "execution_count": 4,
      "metadata": {},
      "outputs": [
        {
          "data": {
            "image/png": "[encoded data removed]",
            "text/plain": [
              "<Figure size 432x288 with 1 Axes>"
            ]
          },
          "metadata": {
            "needs_background": "light"
          },
          "output_type": "display_data"
        }
      ],
      "source": [
        "A = np.matrix([[3,4],[4,3]])\n",
        "x = [[0],[1]]\n",
        "Ax = A.dot(x)\n",
        "plot_vectors([x, Ax])"
      ]
    },
    {
      "cell_type": "markdown",
      "metadata": {},
      "source": [
        "$A : \\left(\\begin{matrix}\n",
        "    3 & 4\\\\\n",
        "    4 & 3\\\\\n",
        "\\end{matrix}\\right) \\hspace{25pt}\n",
        "x : \\left(\\begin{matrix}\n",
        "    1\\\\\n",
        "    0\\\\\n",
        "\\end{matrix}\\right) \\hspace{25pt}\n",
        "A\\cdot x : \\left(\\begin{matrix}\n",
        "    3\\\\\n",
        "    4\\\\\n",
        "\\end{matrix}\\right)$"
      ]
    },
    {
      "cell_type": "code",
      "execution_count": 5,
      "metadata": {},
      "outputs": [
        {
          "data": {
            "image/png": "[encoded data removed]",
            "text/plain": [
              "<Figure size 432x288 with 1 Axes>"
            ]
          },
          "metadata": {
            "needs_background": "light"
          },
          "output_type": "display_data"
        }
      ],
      "source": [
        "x = [[1],[0]]\n",
        "Ax = A.dot(x)\n",
        "plot_vectors([x, Ax])"
      ]
    },
    {
      "cell_type": "markdown",
      "metadata": {},
      "source": [
        "$A : \\left(\\begin{matrix}\n",
        "    3 & 4\\\\\n",
        "    4 & 3\\\\\n",
        "\\end{matrix}\\right) \\hspace{25pt}\n",
        "x : \\left(\\begin{matrix}\n",
        "    -1\\\\\n",
        "    0.1\\\\\n",
        "\\end{matrix}\\right) \\hspace{25pt}\n",
        "A\\cdot x : \\left(\\begin{matrix}\n",
        "    -2.6\\\\\n",
        "    -3.7\\\\\n",
        "\\end{matrix}\\right)$"
      ]
    },
    {
      "cell_type": "code",
      "execution_count": 6,
      "metadata": {},
      "outputs": [
        {
          "data": {
            "image/png": "[encoded data removed]",
            "text/plain": [
              "<Figure size 432x288 with 1 Axes>"
            ]
          },
          "metadata": {
            "needs_background": "light"
          },
          "output_type": "display_data"
        }
      ],
      "source": [
        "x = np.array([[-1],[0.1]])\n",
        "Ax = np.array(A.dot(x))\n",
        "plot_vectors([x, Ax])"
      ]
    },
    {
      "cell_type": "markdown",
      "metadata": {},
      "source": [
        "$A : \\left(\\begin{matrix}\n",
        "    3 & 4\\\\\n",
        "    4 & 3\\\\\n",
        "\\end{matrix}\\right) \\hspace{25pt}\n",
        "x : \\left(\\begin{matrix}\n",
        "    1\\\\\n",
        "    1\\\\\n",
        "\\end{matrix}\\right) \\hspace{25pt}\n",
        "A\\cdot x : \\left(\\begin{matrix}\n",
        "    7\\\\\n",
        "    7\\\\\n",
        "\\end{matrix}\\right)$"
      ]
    },
    {
      "cell_type": "code",
      "execution_count": 7,
      "metadata": {},
      "outputs": [
        {
          "data": {
            "image/png": "[encoded data removed]",
            "text/plain": [
              "<Figure size 432x288 with 1 Axes>"
            ]
          },
          "metadata": {
            "needs_background": "light"
          },
          "output_type": "display_data"
        }
      ],
      "source": [
        "x = np.array([[1],[1]])\n",
        "Ax = np.array(A.dot(x))\n",
        "plot_vectors([x, Ax])"
      ]
    },
    {
      "cell_type": "markdown",
      "metadata": {},
      "source": [
        "$A : \\left(\\begin{matrix}\n",
        "    3 & 4\\\\\n",
        "    4 & 3\\\\\n",
        "\\end{matrix}\\right) \\hspace{25pt}\n",
        "x : \\left(\\begin{matrix}\n",
        "    1\\\\\n",
        "    -1\\\\\n",
        "\\end{matrix}\\right) \\hspace{25pt}\n",
        "A\\cdot x : \\left(\\begin{matrix}\n",
        "    -1\\\\\n",
        "    1\\\\\n",
        "\\end{matrix}\\right)$"
      ]
    },
    {
      "cell_type": "code",
      "execution_count": 8,
      "metadata": {},
      "outputs": [
        {
          "data": {
            "image/png": "[encoded data removed]",
            "text/plain": [
              "<Figure size 432x288 with 1 Axes>"
            ]
          },
          "metadata": {
            "needs_background": "light"
          },
          "output_type": "display_data"
        }
      ],
      "source": [
        "x = np.array([[1],[-1]])\n",
        "Ax = np.array(A.dot(x))\n",
        "plot_vectors([x, Ax])"
      ]
    },
    {
      "cell_type": "code",
      "execution_count": null,
      "metadata": {},
      "outputs": [],
      "source": []
    }
  ],
  "metadata": {
    "kernelspec": {
      "display_name": "Python 3",
      "language": "python",
      "name": "python3"
    },
    "language_info": {
      "codemirror_mode": {
        "name": "ipython",
        "version": 2
      },
      "file_extension": ".py",
      "mimetype": "text/x-python",
      "name": "python",
      "nbconvert_exporter": "python",
      "pygments_lexer": "ipython2",
      "version": "2.7.16"
    }
  },
  "nbformat": 4,
  "nbformat_minor": 2
}