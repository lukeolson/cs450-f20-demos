{
  "cells": [
    {
      "cell_type": "code",
      "execution_count": 2,
      "metadata": {},
      "outputs": [],
      "source": [
        "import numpy as np"
      ]
    },
    {
      "cell_type": "markdown",
      "metadata": {},
      "source": [
        "Start with matrix $A$.  What happens to $A_k$ in each iteration?\n",
        "1. If $A$ is standard full matrix, then each $A_k$ remains full\n",
        "2. If $A$ is upper triangular, then $A_k$ will stay upper triangular\n",
        "3. If $A$ is upper Hessenberg, then $A_k$ will stay upper Hessenberg\n",
        "\n",
        "How do we transform $A$ into an upper Hessenberg matrix?"
      ]
    },
    {
      "cell_type": "code",
      "execution_count": 8,
      "metadata": {},
      "outputs": [],
      "source": [
        "A = np.random.rand(5,5)\n",
        "case = 3\n",
        "if case == 2:\n",
        "    A = np.triu(A, k=0)\n",
        "if case == 3:\n",
        "    A = np.triu(A, k=-1)"
      ]
    },
    {
      "cell_type": "code",
      "execution_count": 9,
      "metadata": {},
      "outputs": [
        {
          "name": "stdout",
          "output_type": "stream",
          "text": [
            "[[0.32 0.97 0.5  0.48 0.63]\n",
            " [0.02 0.1  0.3  0.7  0.42]\n",
            " [0.   0.35 0.68 0.98 0.78]\n",
            " [0.   0.   0.38 0.33 0.54]\n",
            " [0.   0.   0.   0.31 0.4 ]]\n",
            "[[ 0.39  0.59 -0.9  -0.83 -0.14]\n",
            " [ 0.03  0.73 -1.04 -0.36 -0.76]\n",
            " [ 0.   -0.43  0.49  0.18  0.67]\n",
            " [ 0.    0.    0.41  0.01  0.36]\n",
            " [ 0.    0.    0.    0.2   0.22]]\n",
            "[[ 0.43  1.04  0.7   0.17  0.7 ]\n",
            " [ 0.05  1.26  0.22  0.98  0.58]\n",
            " [ 0.    0.23 -0.08  0.29  0.36]\n",
            " [ 0.    0.    0.19  0.21  0.06]\n",
            " [ 0.    0.    0.    0.26  0.01]]\n"
          ]
        }
      ],
      "source": [
        "Q, R = np.linalg.qr(A)\n",
        "A1 = R @ Q\n",
        "Q, R = np.linalg.qr(A1)\n",
        "A2 = R @ Q\n",
        "\n",
        "with np.printoptions(precision=2):\n",
        "    print(A)\n",
        "    print(A1)\n",
        "    print(A2)"
      ]
    },
    {
      "cell_type": "code",
      "execution_count": 11,
      "metadata": {},
      "outputs": [
        {
          "name": "stdout",
          "output_type": "stream",
          "text": [
            "[[-9.98e-01  5.72e-02  9.40e-03  9.31e-04 -3.51e-02]\n",
            " [-6.77e-02 -8.42e-01 -1.38e-01 -1.37e-02  5.16e-01]\n",
            " [-0.00e+00  5.36e-01 -2.19e-01 -2.16e-02  8.15e-01]\n",
            " [-0.00e+00 -0.00e+00  9.66e-01 -6.87e-03  2.59e-01]\n",
            " [-0.00e+00 -0.00e+00  0.00e+00  1.00e+00  2.65e-02]]\n"
          ]
        }
      ],
      "source": [
        "with np.printoptions(precision=2):\n",
        "    print(Q)"
      ]
    },
    {
      "cell_type": "code",
      "execution_count": null,
      "metadata": {},
      "outputs": [],
      "source": [
        "R"
      ]
    },
    {
      "cell_type": "code",
      "execution_count": null,
      "metadata": {},
      "outputs": [],
      "source": []
    }
  ],
  "metadata": {
    "kernelspec": {
      "display_name": "Python 3",
      "language": "python",
      "name": "python3"
    },
    "language_info": {
      "codemirror_mode": {
        "name": "ipython",
        "version": 3
      },
      "file_extension": ".py",
      "mimetype": "text/x-python",
      "name": "python",
      "nbconvert_exporter": "python",
      "pygments_lexer": "ipython3",
      "version": "3.8.5"
    }
  },
  "nbformat": 4,
  "nbformat_minor": 4
}