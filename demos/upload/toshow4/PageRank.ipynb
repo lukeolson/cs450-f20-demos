{
  "cells": [
    {
      "cell_type": "code",
      "execution_count": 1,
      "metadata": {},
      "outputs": [],
      "source": [
        "import numpy as np\n",
        "import matplotlib.pyplot as plt\n",
        "plt.style.use('seaborn-talk')"
      ]
    },
    {
      "cell_type": "code",
      "execution_count": 2,
      "metadata": {},
      "outputs": [],
      "source": [
        "A = np.array([[0.8, 0.6, 0.8],\n",
        "              [0.2, 0.3, 0.0],\n",
        "              [0.0, 0.1, 0.2]])"
      ]
    },
    {
      "cell_type": "code",
      "execution_count": 3,
      "metadata": {},
      "outputs": [
        {
          "name": "stdout",
          "output_type": "stream",
          "text": [
            "[0.22942434 0.31998852 0.45058714]\n",
            "1.0\n"
          ]
        }
      ],
      "source": [
        "v = np.random.rand(3)\n",
        "v = v / np.linalg.norm(v,1)\n",
        "print(v)\n",
        "print(v.sum())"
      ]
    },
    {
      "cell_type": "code",
      "execution_count": 13,
      "metadata": {},
      "outputs": [],
      "source": [
        "x = v.copy()\n",
        "\n",
        "n = 10\n",
        "eigs = np.zeros(n)\n",
        "eigv = np.zeros((3,n))\n",
        "\n",
        "for i in range(n):\n",
        "    y = A @ x\n",
        "    normy = np.linalg.norm(y, np.inf)\n",
        "    x = y / normy\n",
        "    #y = x\n",
        "    eigs[i] = normy\n",
        "    eigv[:,i] = x"
      ]
    },
    {
      "cell_type": "code",
      "execution_count": 10,
      "metadata": {},
      "outputs": [
        {
          "data": {
            "text/plain": [
              "<matplotlib.legend.Legend at 0x115f6a100>"
            ]
          },
          "execution_count": 10,
          "metadata": {},
          "output_type": "execute_result"
        },
        {
          "data": {
            "image/png": "[encoded data removed]",
            "text/plain": [
              "<Figure size 748.8x514.8 with 1 Axes>"
            ]
          },
          "metadata": {
            "needs_background": "light"
          },
          "output_type": "display_data"
        }
      ],
      "source": [
        "plt.plot(eigv.T);\n",
        "plt.legend(['surf', 'study', 'eat'])"
      ]
    },
    {
      "cell_type": "code",
      "execution_count": 11,
      "metadata": {},
      "outputs": [
        {
          "data": {
            "text/plain": [
              "array([0.22942434, 0.31998852, 0.45058714])"
            ]
          },
          "execution_count": 11,
          "metadata": {},
          "output_type": "execute_result"
        }
      ],
      "source": [
        "x"
      ]
    },
    {
      "cell_type": "code",
      "execution_count": 12,
      "metadata": {},
      "outputs": [
        {
          "data": {
            "text/plain": [
              "array([0.22942434, 0.31998852, 0.45058714])"
            ]
          },
          "execution_count": 12,
          "metadata": {},
          "output_type": "execute_result"
        }
      ],
      "source": [
        "x / np.linalg.norm(x,1)"
      ]
    },
    {
      "cell_type": "markdown",
      "metadata": {},
      "source": [
        "#  Page Rank"
      ]
    },
    {
      "cell_type": "markdown",
      "metadata": {},
      "source": [
        "A = array([ [0,     0,     0,     1, 0, 1],\n",
        "            [1/2.0, 0,     0,     0, 0, 0],\n",
        "            [0,     1/2.0, 0,     0, 0, 0],\n",
        "            [0,     1/2.0, 1/3.0, 0, 0, 0],\n",
        "            [0,     0,     1/3.0, 0, 0, 0],\n",
        "            [1/2.0, 0,     1/3.0, 0, 1, 0 ] ])"
      ]
    },
    {
      "cell_type": "code",
      "execution_count": 14,
      "metadata": {},
      "outputs": [],
      "source": [
        "A = np.array([ [0,     0,     0,     1, 0, 1],\n",
        "               [1/2.0, 0,     0,     0, 0, 0],\n",
        "               [0,     1/2.0, 0,     0, 0, 0],\n",
        "               [0,     1/2.0, 1/3.0, 0, 0, 0],\n",
        "               [0,     0,     1/3.0, 0, 0, 0],\n",
        "               [1/2.0, 0,     1/3.0, 0, 1, 0]])"
      ]
    },
    {
      "cell_type": "code",
      "execution_count": 15,
      "metadata": {},
      "outputs": [],
      "source": [
        "u = np.ones(6)\n",
        "M = 0.85 * A + 0.15 * (1/6) * np.outer(u,u)"
      ]
    },
    {
      "cell_type": "code",
      "execution_count": 16,
      "metadata": {},
      "outputs": [],
      "source": [
        "x = np.random.rand(6)\n",
        "x = x / np.linalg.norm(x,1)\n",
        "#x = np.ones(6)/6\n",
        "\n",
        "n = 15\n",
        "eigs = np.zeros(n)\n",
        "eigv = np.zeros((6,n))\n",
        "\n",
        "for i in range(n):\n",
        "    y = M @ x\n",
        "    normy = np.linalg.norm(y, np.inf)\n",
        "    x = y / normy\n",
        "    eigs[i] = normy\n",
        "    eigv[:,i] = x / np.linalg.norm(x,1)"
      ]
    },
    {
      "cell_type": "code",
      "execution_count": 17,
      "metadata": {},
      "outputs": [
        {
          "data": {
            "text/plain": [
              "array([0.32954464, 0.16505883, 0.09514773, 0.12210763, 0.0519599 ,\n",
              "       0.23618128])"
            ]
          },
          "execution_count": 17,
          "metadata": {},
          "output_type": "execute_result"
        }
      ],
      "source": [
        "x / np.linalg.norm(x,1)"
      ]
    },
    {
      "cell_type": "code",
      "execution_count": 19,
      "metadata": {},
      "outputs": [
        {
          "data": {
            "text/plain": [
              "<matplotlib.legend.Legend at 0x115ffd940>"
            ]
          },
          "execution_count": 19,
          "metadata": {},
          "output_type": "execute_result"
        },
        {
          "data": {
            "image/png": "[encoded data removed]",
            "text/plain": [
              "<Figure size 748.8x514.8 with 1 Axes>"
            ]
          },
          "metadata": {
            "needs_background": "light"
          },
          "output_type": "display_data"
        }
      ],
      "source": [
        "plt.plot(eigv.T)\n",
        "plt.legend([f'{i}' for i in range(n)])"
      ]
    },
    {
      "cell_type": "code",
      "execution_count": null,
      "metadata": {},
      "outputs": [],
      "source": [
        "eigs"
      ]
    },
    {
      "cell_type": "code",
      "execution_count": null,
      "metadata": {},
      "outputs": [],
      "source": [
        "w, v = np.linalg.eig(M)"
      ]
    },
    {
      "cell_type": "code",
      "execution_count": null,
      "metadata": {},
      "outputs": [],
      "source": [
        "w"
      ]
    },
    {
      "cell_type": "code",
      "execution_count": null,
      "metadata": {},
      "outputs": [],
      "source": [
        "v = v[:,0]"
      ]
    },
    {
      "cell_type": "code",
      "execution_count": null,
      "metadata": {},
      "outputs": [],
      "source": [
        "v = -v / np.linalg.norm(v,1)"
      ]
    },
    {
      "cell_type": "code",
      "execution_count": null,
      "metadata": {},
      "outputs": [],
      "source": [
        "v"
      ]
    },
    {
      "cell_type": "code",
      "execution_count": null,
      "metadata": {},
      "outputs": [],
      "source": []
    }
  ],
  "metadata": {
    "kernelspec": {
      "display_name": "Python 3",
      "language": "python",
      "name": "python3"
    },
    "language_info": {
      "codemirror_mode": {
        "name": "ipython",
        "version": 3
      },
      "file_extension": ".py",
      "mimetype": "text/x-python",
      "name": "python",
      "nbconvert_exporter": "python",
      "pygments_lexer": "ipython3",
      "version": "3.8.5"
    }
  },
  "nbformat": 4,
  "nbformat_minor": 4
}