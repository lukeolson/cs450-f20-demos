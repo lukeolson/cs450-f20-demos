{
  "cells": [
    {
      "cell_type": "markdown",
      "metadata": {},
      "source": [
        "# Power Iteration and its Variants"
      ]
    },
    {
      "cell_type": "code",
      "execution_count": 33,
      "metadata": {},
      "outputs": [],
      "source": [
        "import numpy as np\n",
        "import numpy.linalg as la\n",
        "np.set_printoptions(precision=3)"
      ]
    },
    {
      "cell_type": "markdown",
      "metadata": {},
      "source": [
        "Let's  prepare a matrix with some random or deliberately chosen eigenvalues:"
      ]
    },
    {
      "cell_type": "code",
      "execution_count": 36,
      "metadata": {},
      "outputs": [
        {
          "name": "stdout",
          "output_type": "stream",
          "text": [
            "[-2.668 -0.958 -0.33  -0.292 -0.186 -0.144]\n"
          ]
        }
      ],
      "source": [
        "n = 6\n",
        "\n",
        "if 1:\n",
        "    np.random.seed(70)\n",
        "    eigvecs = np.random.randn(n, n)\n",
        "    eigvals = np.sort(np.random.randn(n))\n",
        "    # Uncomment for near-duplicate largest-magnitude eigenvalue\n",
        "    # eigvals[1] = eigvals[0] + 1e-3\n",
        "\n",
        "    A = eigvecs.dot(np.diag(eigvals)).dot(la.inv(eigvecs))\n",
        "    print(eigvals)\n",
        "    \n",
        "else:\n",
        "    # Complex eigenvalues\n",
        "    np.random.seed(40)\n",
        "    A = np.random.randn(n, n)\n",
        "    print(la.eig(A)[0])"
      ]
    },
    {
      "cell_type": "markdown",
      "metadata": {},
      "source": [
        "Let's also pick an initial vector:"
      ]
    },
    {
      "cell_type": "code",
      "execution_count": 37,
      "metadata": {},
      "outputs": [
        {
          "data": {
            "text/plain": [
              "array([ 2.269,  0.664,  0.899, -0.366,  0.463,  0.08 ])"
            ]
          },
          "execution_count": 37,
          "metadata": {},
          "output_type": "execute_result"
        }
      ],
      "source": [
        "x0 = np.random.randn(n)\n",
        "x0"
      ]
    },
    {
      "cell_type": "markdown",
      "metadata": {},
      "source": [
        "### Power iteration"
      ]
    },
    {
      "cell_type": "code",
      "execution_count": 42,
      "metadata": {},
      "outputs": [],
      "source": [
        "x = x0"
      ]
    },
    {
      "cell_type": "markdown",
      "metadata": {},
      "source": [
        "Now implement plain power iteration."
      ]
    },
    {
      "cell_type": "code",
      "execution_count": 52,
      "metadata": {},
      "outputs": [
        {
          "name": "stdout",
          "output_type": "stream",
          "text": [
            "|eig| ~ -0.14418092415134545\n",
            "|eig| ~ -0.14418092372472432\n",
            "|eig| ~ -0.14418092317209322\n",
            "|eig| ~ -0.1441809224353315\n",
            "|eig| ~ -0.144180921067802\n",
            "|eig| ~ -0.14418091162171445\n",
            "|eig| ~ -0.14418075737246108\n",
            "|eig| ~ -0.14417793014921995\n",
            "|eig| ~ -0.144125655200453\n",
            "|eig| ~ -0.14315812209947684\n",
            "|eig| ~ -0.1251220367722499\n",
            "|eig| ~ 0.2621610739580601\n",
            "|eig| ~ -4.2789594330255145\n",
            "|eig| ~ -2.721944036124406\n",
            "|eig| ~ -2.670526709391543\n",
            "|eig| ~ -2.6678061903287826\n",
            "|eig| ~ -2.667659360033327\n",
            "|eig| ~ -2.6676514394147017\n",
            "|eig| ~ -2.667651016623914\n",
            "|eig| ~ -2.6676509956763574\n"
          ]
        }
      ],
      "source": [
        "for i in range(20):\n",
        "    xold = x.copy()\n",
        "    x = A @ x\n",
        "    #print(x / xold)\n",
        "    print('|eig| ~', x[0] / xold[0])"
      ]
    },
    {
      "cell_type": "markdown",
      "metadata": {},
      "source": [
        "* What's the problem with this method?\n",
        "* Does anything useful come of this?\n",
        "* How do we fix it?"
      ]
    },
    {
      "cell_type": "markdown",
      "metadata": {},
      "source": [
        "### Normalized power iteration"
      ]
    },
    {
      "cell_type": "markdown",
      "metadata": {},
      "source": [
        "Back to the beginning: Reset to the initial vector."
      ]
    },
    {
      "cell_type": "code",
      "execution_count": 53,
      "metadata": {},
      "outputs": [],
      "source": [
        "x = x0/la.norm(x0)"
      ]
    },
    {
      "cell_type": "markdown",
      "metadata": {},
      "source": [
        "Implement normalized power iteration."
      ]
    },
    {
      "cell_type": "code",
      "execution_count": 54,
      "metadata": {},
      "outputs": [
        {
          "name": "stdout",
          "output_type": "stream",
          "text": [
            "|eig| ~ 10.411000127344384\n",
            "|eig| ~ 2.931342228363236\n",
            "|eig| ~ 2.7009617827093924\n",
            "|eig| ~ 2.674705231024035\n",
            "|eig| ~ 2.6697249538939403\n",
            "|eig| ~ 2.66834923020146\n",
            "|eig| ~ 2.6678967063646497\n",
            "|eig| ~ 2.667738661394379\n",
            "|eig| ~ 2.6676824100811145\n",
            "|eig| ~ 2.667662268743778\n",
            "[ 0.237 -0.845 -0.138  0.181 -0.151 -0.394]\n"
          ]
        }
      ],
      "source": [
        "for i in range(10):\n",
        "    x = A @ x\n",
        "    nrm = la.norm(x)\n",
        "    x = x/nrm\n",
        "    print('|eig| ~', nrm)\n",
        "\n",
        "print(x)"
      ]
    },
    {
      "cell_type": "code",
      "execution_count": 55,
      "metadata": {},
      "outputs": [
        {
          "data": {
            "text/plain": [
              "array([ 1.488e-06, -6.763e-06,  1.802e-06, -5.107e-06, -5.169e-06,\n",
              "       -3.943e-06])"
            ]
          },
          "execution_count": 55,
          "metadata": {},
          "output_type": "execute_result"
        }
      ],
      "source": [
        "A @ x - - nrm * x"
      ]
    },
    {
      "cell_type": "markdown",
      "metadata": {},
      "source": [
        "* What do you observe about the norm?\n",
        "* What about the sign?\n",
        "* What is the vector $x$ now?\n",
        "\n",
        "Extensions:\n",
        "\n",
        "* Now try the matrix variants above.\n",
        "* Suggest a better way of estimating the eigenvalue. [Hint](https://en.wikipedia.org/wiki/Rayleigh_quotient)"
      ]
    },
    {
      "cell_type": "markdown",
      "metadata": {},
      "source": [
        "------\n",
        "### Inverse iteration\n",
        "\n",
        "What if we want the smallest eigenvalue (by magnitude)?\n",
        "\n",
        "Once again, reset to the beginning."
      ]
    },
    {
      "cell_type": "code",
      "execution_count": 56,
      "metadata": {},
      "outputs": [],
      "source": [
        "x = x0/la.norm(x0)"
      ]
    },
    {
      "cell_type": "code",
      "execution_count": 57,
      "metadata": {},
      "outputs": [
        {
          "name": "stdout",
          "output_type": "stream",
          "text": [
            "|eig| ~ 0.050405197175442534\n",
            "|eig| ~ 0.14831364453292906\n",
            "|eig| ~ 0.14305586701296166\n",
            "|eig| ~ 0.1394127194194322\n",
            "|eig| ~ 0.13829144493812798\n",
            "|eig| ~ 0.13837008218756022\n",
            "|eig| ~ 0.13899785982251972\n",
            "|eig| ~ 0.13980464470770787\n",
            "|eig| ~ 0.14060157080716562\n",
            "|eig| ~ 0.14130894974197075\n",
            "|eig| ~ 0.1419038220900869\n",
            "|eig| ~ 0.1423891881500867\n",
            "|eig| ~ 0.1427781420086042\n",
            "|eig| ~ 0.14308635900968578\n",
            "|eig| ~ 0.14332883588966172\n",
            "|eig| ~ 0.14351867777732702\n",
            "|eig| ~ 0.14366682252440854\n",
            "|eig| ~ 0.14378216386212161\n",
            "|eig| ~ 0.143871819260615\n",
            "|eig| ~ 0.1439414269808849\n",
            "|eig| ~ 0.14399542340286198\n",
            "|eig| ~ 0.14403728313211261\n",
            "|eig| ~ 0.1440697187196691\n",
            "|eig| ~ 0.14409484291673352\n",
            "|eig| ~ 0.1441142985528363\n",
            "|eig| ~ 0.1441293614887531\n",
            "|eig| ~ 0.14414102168580564\n",
            "|eig| ~ 0.1441500467473268\n",
            "|eig| ~ 0.144157031557096\n",
            "|eig| ~ 0.14416243696355052\n",
            "6.936619698325689\n"
          ]
        }
      ],
      "source": [
        "for i in range(30):\n",
        "    x = la.solve(A, x)\n",
        "    nrm = la.norm(x)\n",
        "    x = x/nrm\n",
        "    print('|eig| ~', 1/nrm)\n",
        "print(nrm)"
      ]
    },
    {
      "cell_type": "markdown",
      "metadata": {},
      "source": [
        "* What's the computational cost per iteration?\n",
        "* Can we make this method search for a specific eigenvalue?"
      ]
    },
    {
      "cell_type": "markdown",
      "metadata": {},
      "source": [
        "------\n",
        "### Inverse Shift iteration\n",
        "\n",
        "What if we want the eigenvalue closest to a give value $\\sigma$?\n",
        "\n",
        "Once again, reset to the beginning."
      ]
    },
    {
      "cell_type": "code",
      "execution_count": 64,
      "metadata": {},
      "outputs": [],
      "source": [
        "x = x0/la.norm(x0)"
      ]
    },
    {
      "cell_type": "code",
      "execution_count": 69,
      "metadata": {},
      "outputs": [
        {
          "name": "stdout",
          "output_type": "stream",
          "text": [
            "|eig| ~ 0.04202907081564314\n",
            "|eig| ~ 0.042029070815643145\n",
            "|eig| ~ 0.042029070815643124\n",
            "|eig| ~ 0.04202907081564314\n",
            "|eig| ~ 0.042029070815643145\n",
            "|eig| ~ 0.042029070815643124\n",
            "|eig| ~ 0.04202907081564314\n",
            "|eig| ~ 0.042029070815643145\n",
            "|eig| ~ 0.042029070815643124\n",
            "|eig| ~ 0.04202907081564314\n",
            "|eig| ~ 0.042029070815643145\n",
            "|eig| ~ 0.042029070815643124\n",
            "|eig| ~ 0.04202907081564314\n",
            "|eig| ~ 0.042029070815643145\n",
            "|eig| ~ 0.042029070815643124\n",
            "|eig| ~ 0.04202907081564314\n",
            "|eig| ~ 0.042029070815643145\n",
            "|eig| ~ 0.042029070815643124\n",
            "|eig| ~ 0.04202907081564314\n",
            "|eig| ~ 0.042029070815643145\n",
            "|eig| ~ 0.042029070815643124\n",
            "|eig| ~ 0.04202907081564314\n",
            "|eig| ~ 0.042029070815643145\n",
            "|eig| ~ 0.042029070815643124\n",
            "|eig| ~ 0.04202907081564314\n",
            "|eig| ~ 0.042029070815643145\n",
            "|eig| ~ 0.042029070815643124\n",
            "|eig| ~ 0.04202907081564314\n",
            "|eig| ~ 0.042029070815643145\n",
            "|eig| ~ 0.042029070815643124\n",
            "23.793055154286264\n",
            "[-1.668  0.042  0.67   0.708  0.814  0.856]\n"
          ]
        }
      ],
      "source": [
        "sigma = -1\n",
        "A_sigma = A-sigma*np.eye(A.shape[0])\n",
        "for i in range(30):\n",
        "    x = la.solve(A_sigma, x)\n",
        "    nrm = la.norm(x)\n",
        "    x = x/nrm\n",
        "    print('|eig| ~', 1/nrm)\n",
        "print(nrm)\n",
        "print(eigvals - sigma)"
      ]
    },
    {
      "cell_type": "markdown",
      "metadata": {},
      "source": [
        "--------------\n",
        "### Rayleigh quotient iteration\n",
        "\n",
        "Can we feed an estimate of the current approximate eigenvalue back into the calculation? (Hint: Rayleigh quotient)\n",
        "\n",
        "Reset once more."
      ]
    },
    {
      "cell_type": "code",
      "execution_count": 75,
      "metadata": {},
      "outputs": [],
      "source": [
        "x = x0/la.norm(x0)"
      ]
    },
    {
      "cell_type": "markdown",
      "metadata": {},
      "source": [
        "Run this cell in-place (Ctrl-Enter) many times."
      ]
    },
    {
      "cell_type": "code",
      "execution_count": 77,
      "metadata": {},
      "outputs": [
        {
          "name": "stdout",
          "output_type": "stream",
          "text": [
            "|eig| ~ -0.14418092560963328\n",
            "|eig| ~ -0.14418092560962567\n",
            "|eig| ~ -0.14418092560963539\n",
            "|eig| ~ -0.14418092560962883\n",
            "|eig| ~ -0.14418092560963178\n",
            "|eig| ~ -0.14418092560962933\n",
            "|eig| ~ -0.14418092560963108\n",
            "|eig| ~ -0.1441809256096294\n",
            "|eig| ~ -0.1441809256096311\n",
            "|eig| ~ -0.14418092560962886\n",
            "[-2.668 -0.958 -0.33  -0.292 -0.186 -0.144]\n"
          ]
        }
      ],
      "source": [
        "for i in range(10):\n",
        "    sigma = np.dot(x, np.dot(A, x))/np.dot(x, x)\n",
        "    x = la.solve(A-sigma*np.eye(n), x)\n",
        "    x = x/la.norm(x)\n",
        "    print('|eig| ~', sigma)\n",
        "print(eigvals)"
      ]
    },
    {
      "cell_type": "markdown",
      "metadata": {},
      "source": [
        "* What's a reasonable stopping criterion?\n",
        "* Computational downside of this iteration?"
      ]
    }
  ],
  "metadata": {
    "kernelspec": {
      "display_name": "Python 3",
      "language": "python",
      "name": "python3"
    },
    "language_info": {
      "codemirror_mode": {
        "name": "ipython",
        "version": 3
      },
      "file_extension": ".py",
      "mimetype": "text/x-python",
      "name": "python",
      "nbconvert_exporter": "python",
      "pygments_lexer": "ipython3",
      "version": "3.8.5"
    }
  },
  "nbformat": 4,
  "nbformat_minor": 4
}