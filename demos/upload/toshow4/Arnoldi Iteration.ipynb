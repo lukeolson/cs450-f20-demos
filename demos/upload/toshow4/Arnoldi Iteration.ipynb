{
  "cells": [
    {
      "cell_type": "markdown",
      "metadata": {},
      "source": [
        "# Arnoldi Iteration"
      ]
    },
    {
      "cell_type": "code",
      "execution_count": 2,
      "metadata": {},
      "outputs": [],
      "source": [
        "import numpy as np\n",
        "import numpy.linalg as la\n",
        "\n",
        "import matplotlib.pyplot as pt"
      ]
    },
    {
      "cell_type": "markdown",
      "metadata": {},
      "source": [
        "Let us make a matrix with a defined set of eigenvalues and eigenvectors, given by `eigvals` and `eigvecs`."
      ]
    },
    {
      "cell_type": "code",
      "execution_count": 3,
      "metadata": {},
      "outputs": [
        {
          "name": "stdout",
          "output_type": "stream",
          "text": [
            "[ 1.  2.  3.  4.  5.  6.  7.  8.  9. 10. 11. 12. 13. 14. 15. 16. 17. 18.\n",
            " 19. 20. 21. 22. 23. 24. 25.]\n",
            "[25. 24. 23.  1.  2.  3. 22.  4. 21. 20.  5.  6.  7. 19. 18.  8.  9. 17.\n",
            " 16. 10. 11. 12. 15. 14. 13.]\n"
          ]
        }
      ],
      "source": [
        "np.random.seed(40)\n",
        "\n",
        "# Generate matrix with eigenvalues 1...25\n",
        "n = 25\n",
        "eigvals = np.linspace(1., n, n)\n",
        "eigvecs = np.random.randn(n, n)\n",
        "print(eigvals)\n",
        "\n",
        "A = la.solve(eigvecs, np.dot(np.diag(eigvals), eigvecs))\n",
        "print(la.eig(A)[0])"
      ]
    },
    {
      "cell_type": "markdown",
      "metadata": {},
      "source": [
        "## Initialization"
      ]
    },
    {
      "cell_type": "markdown",
      "metadata": {},
      "source": [
        "Set up $Q$ and $H$:"
      ]
    },
    {
      "cell_type": "code",
      "execution_count": 4,
      "metadata": {},
      "outputs": [],
      "source": [
        "Q = np.zeros((n, n))\n",
        "H = np.zeros((n, n))\n",
        "\n",
        "k = 0"
      ]
    },
    {
      "cell_type": "markdown",
      "metadata": {},
      "source": [
        "Pick a starting vector, normalize it"
      ]
    },
    {
      "cell_type": "code",
      "execution_count": 5,
      "metadata": {},
      "outputs": [],
      "source": [
        "x0 = np.random.randn(n)\n",
        "x0 = x0/la.norm(x0)\n",
        "\n",
        "# Poke it into the first column of Q\n",
        "Q[:, k] = x0\n",
        "\n",
        "del x0"
      ]
    },
    {
      "cell_type": "markdown",
      "metadata": {},
      "source": [
        "Make a list to save arrays of Ritz values:"
      ]
    },
    {
      "cell_type": "code",
      "execution_count": 6,
      "metadata": {},
      "outputs": [],
      "source": [
        "ritz_values = []"
      ]
    },
    {
      "cell_type": "markdown",
      "metadata": {},
      "source": [
        "## Algorithm"
      ]
    },
    {
      "cell_type": "markdown",
      "metadata": {},
      "source": [
        "Carry out one iteration of Arnoldi iteration.\n",
        "\n",
        "Run this cell in-place (Ctrl-Enter) until H is filled."
      ]
    },
    {
      "cell_type": "code",
      "execution_count": 32,
      "metadata": {},
      "outputs": [
        {
          "name": "stdout",
          "output_type": "stream",
          "text": [
            "25\n"
          ]
        },
        {
          "ename": "IndexError",
          "evalue": "index 25 is out of bounds for axis 1 with size 25",
          "output_type": "error",
          "traceback": [
            "\u001b[0;31m---------------------------------------------------------------------------\u001b[0m",
            "\u001b[0;31mIndexError\u001b[0m                                Traceback (most recent call last)",
            "\u001b[0;32m<ipython-input-32-3d37a2fe690f>\u001b[0m in \u001b[0;36m<module>\u001b[0;34m\u001b[0m\n\u001b[1;32m      1\u001b[0m \u001b[0mprint\u001b[0m\u001b[0;34m(\u001b[0m\u001b[0mk\u001b[0m\u001b[0;34m)\u001b[0m\u001b[0;34m\u001b[0m\u001b[0;34m\u001b[0m\u001b[0m\n\u001b[1;32m      2\u001b[0m \u001b[0;34m\u001b[0m\u001b[0m\n\u001b[0;32m----> 3\u001b[0;31m \u001b[0mu\u001b[0m \u001b[0;34m=\u001b[0m \u001b[0mA\u001b[0m \u001b[0;34m@\u001b[0m \u001b[0mQ\u001b[0m\u001b[0;34m[\u001b[0m\u001b[0;34m:\u001b[0m\u001b[0;34m,\u001b[0m \u001b[0mk\u001b[0m\u001b[0;34m]\u001b[0m\u001b[0;34m\u001b[0m\u001b[0;34m\u001b[0m\u001b[0m\n\u001b[0m\u001b[1;32m      4\u001b[0m \u001b[0;34m\u001b[0m\u001b[0m\n\u001b[1;32m      5\u001b[0m \u001b[0;31m# Carry out Gram-Schmidt on u against Q\u001b[0m\u001b[0;34m\u001b[0m\u001b[0;34m\u001b[0m\u001b[0;34m\u001b[0m\u001b[0m\n",
            "\u001b[0;31mIndexError\u001b[0m: index 25 is out of bounds for axis 1 with size 25"
          ]
        }
      ],
      "source": [
        "print(k)\n",
        "\n",
        "u = A @ Q[:, k]\n",
        "\n",
        "# Carry out Gram-Schmidt on u against Q\n",
        "for j in range(k+1):\n",
        "    qj = Q[:, j]\n",
        "    H[j,k] = qj @ u\n",
        "    u = u - H[j,k]*qj\n",
        "\n",
        "if k+1 < n:\n",
        "    H[k+1, k] = la.norm(u)\n",
        "    Q[:, k+1] = u/H[k+1, k]\n",
        "\n",
        "k += 1\n",
        "\n",
        "pt.spy(H)\n",
        "\n",
        "ritz_values.append(la.eig(H)[0])"
      ]
    },
    {
      "cell_type": "markdown",
      "metadata": {},
      "source": [
        "Check that $Q^T A Q =H$:"
      ]
    },
    {
      "cell_type": "code",
      "execution_count": 33,
      "metadata": {},
      "outputs": [
        {
          "data": {
            "text/plain": [
              "5.694093461629727e-08"
            ]
          },
          "execution_count": 33,
          "metadata": {},
          "output_type": "execute_result"
        }
      ],
      "source": [
        "la.norm(Q.T @ A @ Q - H)/ la.norm(A)"
      ]
    },
    {
      "cell_type": "markdown",
      "metadata": {},
      "source": [
        "Check that Q is orthogonal:"
      ]
    },
    {
      "cell_type": "code",
      "execution_count": 34,
      "metadata": {},
      "outputs": [
        {
          "data": {
            "text/plain": [
              "9.785682262092261e-08"
            ]
          },
          "execution_count": 34,
          "metadata": {},
          "output_type": "execute_result"
        }
      ],
      "source": [
        "la.norm(Q.T @ Q - np.eye(n))"
      ]
    },
    {
      "cell_type": "markdown",
      "metadata": {},
      "source": [
        "## Plot convergence of Ritz values"
      ]
    },
    {
      "cell_type": "markdown",
      "metadata": {},
      "source": [
        "Enable the Ritz value collection above to make this work."
      ]
    },
    {
      "cell_type": "code",
      "execution_count": 37,
      "metadata": {},
      "outputs": [
        {
          "name": "stderr",
          "output_type": "stream",
          "text": [
            "/Users/lukeo/.virtualenvs/cs450-f20/lib/python3.8/site-packages/numpy/core/_asarray.py:83: ComplexWarning: Casting complex values to real discards the imaginary part\n",
            "  return array(a, dtype, copy=False, order=order)\n",
            "/Users/lukeo/.virtualenvs/cs450-f20/lib/python3.8/site-packages/numpy/core/_asarray.py:83: ComplexWarning: Casting complex values to real discards the imaginary part\n",
            "  return array(a, dtype, copy=False, order=order)\n",
            "/Users/lukeo/.virtualenvs/cs450-f20/lib/python3.8/site-packages/numpy/core/_asarray.py:83: ComplexWarning: Casting complex values to real discards the imaginary part\n",
            "  return array(a, dtype, copy=False, order=order)\n",
            "/Users/lukeo/.virtualenvs/cs450-f20/lib/python3.8/site-packages/numpy/core/_asarray.py:83: ComplexWarning: Casting complex values to real discards the imaginary part\n",
            "  return array(a, dtype, copy=False, order=order)\n",
            "/Users/lukeo/.virtualenvs/cs450-f20/lib/python3.8/site-packages/numpy/core/_asarray.py:83: ComplexWarning: Casting complex values to real discards the imaginary part\n",
            "  return array(a, dtype, copy=False, order=order)\n",
            "/Users/lukeo/.virtualenvs/cs450-f20/lib/python3.8/site-packages/numpy/core/_asarray.py:83: ComplexWarning: Casting complex values to real discards the imaginary part\n",
            "  return array(a, dtype, copy=False, order=order)\n",
            "/Users/lukeo/.virtualenvs/cs450-f20/lib/python3.8/site-packages/numpy/core/_asarray.py:83: ComplexWarning: Casting complex values to real discards the imaginary part\n",
            "  return array(a, dtype, copy=False, order=order)\n"
          ]
        },
        {
          "data": {
            "image/png": "[encoded data removed]",
            "text/plain": [
              "<Figure size 720x720 with 1 Axes>"
            ]
          },
          "metadata": {
            "needs_background": "light"
          },
          "output_type": "display_data"
        }
      ],
      "source": [
        "pt.figure(figsize=(10,10))\n",
        "for i, rv in enumerate(ritz_values):\n",
        "    I = np.where(rv != 0.0)[0]\n",
        "    pt.plot([i] * len(rv[I]), rv[I], \"x\")"
      ]
    },
    {
      "cell_type": "code",
      "execution_count": null,
      "metadata": {},
      "outputs": [],
      "source": [
        "A = np.random.rand(2,2) + 1j*np.random.rand(2,2)\n",
        "print(A)\n"
      ]
    },
    {
      "cell_type": "code",
      "execution_count": null,
      "metadata": {},
      "outputs": [],
      "source": [
        "A.conj()"
      ]
    },
    {
      "cell_type": "code",
      "execution_count": null,
      "metadata": {},
      "outputs": [],
      "source": [
        "A.conj().T"
      ]
    },
    {
      "cell_type": "code",
      "execution_count": null,
      "metadata": {},
      "outputs": [],
      "source": [
        "import scipy.linalg as sla"
      ]
    },
    {
      "cell_type": "code",
      "execution_count": null,
      "metadata": {},
      "outputs": [],
      "source": [
        "sla."
      ]
    },
    {
      "cell_type": "code",
      "execution_count": 36,
      "metadata": {},
      "outputs": [
        {
          "data": {
            "text/plain": [
              "[array([ 0.       , 20.8681137,  0.       ,  0.       ,  0.       ,\n",
              "         0.       ,  0.       ,  0.       ,  0.       ,  0.       ,\n",
              "         0.       ,  0.       ,  0.       ,  0.       ,  0.       ,\n",
              "         0.       ,  0.       ,  0.       ,  0.       ,  0.       ,\n",
              "         0.       ,  0.       ,  0.       ,  0.       ,  0.       ]),\n",
              " array([ 0.        , 12.26753412, 22.96258578,  0.        ,  0.        ,\n",
              "         0.        ,  0.        ,  0.        ,  0.        ,  0.        ,\n",
              "         0.        ,  0.        ,  0.        ,  0.        ,  0.        ,\n",
              "         0.        ,  0.        ,  0.        ,  0.        ,  0.        ,\n",
              "         0.        ,  0.        ,  0.        ,  0.        ,  0.        ]),\n",
              " array([0.00000000e+00, 1.30984943e-02, 1.17950263e+01, 2.28731301e+01,\n",
              "        0.00000000e+00, 0.00000000e+00, 0.00000000e+00, 0.00000000e+00,\n",
              "        0.00000000e+00, 0.00000000e+00, 0.00000000e+00, 0.00000000e+00,\n",
              "        0.00000000e+00, 0.00000000e+00, 0.00000000e+00, 0.00000000e+00,\n",
              "        0.00000000e+00, 0.00000000e+00, 0.00000000e+00, 0.00000000e+00,\n",
              "        0.00000000e+00, 0.00000000e+00, 0.00000000e+00, 0.00000000e+00,\n",
              "        0.00000000e+00]),\n",
              " array([ 0.        +0.j        ,  3.489412  +0.j        ,\n",
              "        10.86759307+0.j        , 22.29433813+1.48016269j,\n",
              "        22.29433813-1.48016269j,  0.        +0.j        ,\n",
              "         0.        +0.j        ,  0.        +0.j        ,\n",
              "         0.        +0.j        ,  0.        +0.j        ,\n",
              "         0.        +0.j        ,  0.        +0.j        ,\n",
              "         0.        +0.j        ,  0.        +0.j        ,\n",
              "         0.        +0.j        ,  0.        +0.j        ,\n",
              "         0.        +0.j        ,  0.        +0.j        ,\n",
              "         0.        +0.j        ,  0.        +0.j        ,\n",
              "         0.        +0.j        ,  0.        +0.j        ,\n",
              "         0.        +0.j        ,  0.        +0.j        ,\n",
              "         0.        +0.j        ]),\n",
              " array([ 0.        ,  2.62976407,  6.93454956, 12.83824322, 24.41957654,\n",
              "        20.54344508,  0.        ,  0.        ,  0.        ,  0.        ,\n",
              "         0.        ,  0.        ,  0.        ,  0.        ,  0.        ,\n",
              "         0.        ,  0.        ,  0.        ,  0.        ,  0.        ,\n",
              "         0.        ,  0.        ,  0.        ,  0.        ,  0.        ]),\n",
              " array([ 0.        ,  1.55421877,  4.95122616, 11.37921243, 16.21537455,\n",
              "        22.56173431, 21.61839536,  0.        ,  0.        ,  0.        ,\n",
              "         0.        ,  0.        ,  0.        ,  0.        ,  0.        ,\n",
              "         0.        ,  0.        ,  0.        ,  0.        ,  0.        ,\n",
              "         0.        ,  0.        ,  0.        ,  0.        ,  0.        ]),\n",
              " array([ 0.        ,  1.38653719,  4.6667638 , 10.34965279, 13.29909743,\n",
              "        24.53700982, 19.85785295, 20.77232623,  0.        ,  0.        ,\n",
              "         0.        ,  0.        ,  0.        ,  0.        ,  0.        ,\n",
              "         0.        ,  0.        ,  0.        ,  0.        ,  0.        ,\n",
              "         0.        ,  0.        ,  0.        ,  0.        ,  0.        ]),\n",
              " array([ 0.        +0.j        ,  1.21991754+0.j        ,\n",
              "         4.34710853+0.j        ,  8.79151218+2.31261536j,\n",
              "         8.79151218-2.31261536j, 15.29932375+0.j        ,\n",
              "        24.50456427+0.j        , 22.5563637 +0.j        ,\n",
              "        18.36332934+0.j        ,  0.        +0.j        ,\n",
              "         0.        +0.j        ,  0.        +0.j        ,\n",
              "         0.        +0.j        ,  0.        +0.j        ,\n",
              "         0.        +0.j        ,  0.        +0.j        ,\n",
              "         0.        +0.j        ,  0.        +0.j        ,\n",
              "         0.        +0.j        ,  0.        +0.j        ,\n",
              "         0.        +0.j        ,  0.        +0.j        ,\n",
              "         0.        +0.j        ,  0.        +0.j        ,\n",
              "         0.        +0.j        ]),\n",
              " array([ 0.        ,  1.39109473,  2.76739625,  5.48272263,  9.70363919,\n",
              "        14.21339515, 16.62370525, 24.96919195, 23.08779203, 21.1409211 ,\n",
              "         0.        ,  0.        ,  0.        ,  0.        ,  0.        ,\n",
              "         0.        ,  0.        ,  0.        ,  0.        ,  0.        ,\n",
              "         0.        ,  0.        ,  0.        ,  0.        ,  0.        ]),\n",
              " array([ 0.        ,  1.24411845,  3.21755658,  4.71421444,  8.06100591,\n",
              "        12.53845733, 15.04544914, 24.38781581, 24.02450098, 19.84917012,\n",
              "        21.34794496,  0.        ,  0.        ,  0.        ,  0.        ,\n",
              "         0.        ,  0.        ,  0.        ,  0.        ,  0.        ,\n",
              "         0.        ,  0.        ,  0.        ,  0.        ,  0.        ]),\n",
              " array([ 0.        +0.j        ,  1.10782726+0.j        ,\n",
              "         3.07823586+0.j        ,  5.1971175 +0.j        ,\n",
              "         6.80882189+0.j        , 12.095497  +1.97156217j,\n",
              "        12.095497  -1.97156217j, 15.90112184+0.j        ,\n",
              "        24.88174931+0.j        , 23.8117055 +0.j        ,\n",
              "        20.00160912+0.j        , 21.19662998+0.j        ,\n",
              "         0.        +0.j        ,  0.        +0.j        ,\n",
              "         0.        +0.j        ,  0.        +0.j        ,\n",
              "         0.        +0.j        ,  0.        +0.j        ,\n",
              "         0.        +0.j        ,  0.        +0.j        ,\n",
              "         0.        +0.j        ,  0.        +0.j        ,\n",
              "         0.        +0.j        ,  0.        +0.j        ,\n",
              "         0.        +0.j        ]),\n",
              " array([ 0.        ,  1.06456929,  2.36002776,  2.74999037,  5.44047895,\n",
              "         9.13202922, 11.38101366, 14.57951101, 17.46741007, 25.01906734,\n",
              "        23.76579944, 22.12394436, 20.74326937,  0.        ,  0.        ,\n",
              "         0.        ,  0.        ,  0.        ,  0.        ,  0.        ,\n",
              "         0.        ,  0.        ,  0.        ,  0.        ,  0.        ]),\n",
              " array([ 0.        ,  0.9384134 ,  2.14459834,  3.19911247,  4.94541898,\n",
              "         8.03141831, 10.66363918, 13.6977213 , 16.21756234, 18.79168353,\n",
              "        24.90048704, 23.91238918, 22.65839243, 20.98324887,  0.        ,\n",
              "         0.        ,  0.        ,  0.        ,  0.        ,  0.        ,\n",
              "         0.        ,  0.        ,  0.        ,  0.        ,  0.        ]),\n",
              " array([ 0.        ,  0.96705229,  1.83229341,  2.97356269,  4.95831562,\n",
              "         7.49136508,  9.73265696, 11.90921207, 14.59830894, 17.31508688,\n",
              "        25.00332385, 24.04599688, 22.85035104, 19.5018105 , 21.1988808 ,\n",
              "         0.        ,  0.        ,  0.        ,  0.        ,  0.        ,\n",
              "         0.        ,  0.        ,  0.        ,  0.        ,  0.        ]),\n",
              " array([ 0.        +0.j       ,  1.01648201+0.j       ,\n",
              "         2.04755845+0.j       ,  3.1564531 +0.j       ,\n",
              "         4.90590329+0.j       ,  6.35366175+0.j       ,\n",
              "         9.05966382+0.j       , 11.87429049+0.j       ,\n",
              "        14.13868255+0.2207405j, 14.13868255-0.2207405j,\n",
              "        17.32628881+0.j       , 24.98427497+0.j       ,\n",
              "        23.99517935+0.j       , 22.86139148+0.j       ,\n",
              "        20.19501737+0.j       , 20.86603733+0.j       ,\n",
              "         0.        +0.j       ,  0.        +0.j       ,\n",
              "         0.        +0.j       ,  0.        +0.j       ,\n",
              "         0.        +0.j       ,  0.        +0.j       ,\n",
              "         0.        +0.j       ,  0.        +0.j       ,\n",
              "         0.        +0.j       ]),\n",
              " array([ 0.        ,  0.99527248,  1.99556774,  2.96582071,  4.83278714,\n",
              "         6.62346141,  8.04017575, 10.3382964 , 11.90885217, 15.03845108,\n",
              "        16.24245338, 24.99511493, 23.95498202, 23.10046575, 21.75544996,\n",
              "        19.18446944, 20.28698882,  0.        ,  0.        ,  0.        ,\n",
              "         0.        ,  0.        ,  0.        ,  0.        ,  0.        ]),\n",
              " array([ 0.        ,  0.99707246,  2.04563356,  3.01668186,  4.7765857 ,\n",
              "         5.80282906,  7.93256991,  9.78178734, 11.36821375, 13.59859781,\n",
              "        15.90146998, 24.99720683, 24.03257863, 17.5193528 , 22.98499953,\n",
              "        18.76059731, 22.0463614 , 20.42648083,  0.        ,  0.        ,\n",
              "         0.        ,  0.        ,  0.        ,  0.        ,  0.        ]),\n",
              " array([ 0.        +0.j        ,  0.99872306+0.j        ,\n",
              "         1.9605343 +0.j        ,  2.97600495+0.j        ,\n",
              "         4.29083289+0.j        ,  5.32109763+0.j        ,\n",
              "         7.05417893+0.j        ,  8.90361708+0.j        ,\n",
              "        10.35238575+0.j        , 11.77721452+0.j        ,\n",
              "        14.69820266+0.j        , 16.11230169+0.j        ,\n",
              "        25.00381726+0.j        , 23.99888793+0.j        ,\n",
              "        22.96900466+0.j        , 18.98235896+0.57708705j,\n",
              "        18.98235896-0.57708705j, 21.78515749+0.j        ,\n",
              "        20.47217978+0.j        ,  0.        +0.j        ,\n",
              "         0.        +0.j        ,  0.        +0.j        ,\n",
              "         0.        +0.j        ,  0.        +0.j        ,\n",
              "         0.        +0.j        ]),\n",
              " array([ 0.        ,  1.00065273,  2.00556191,  3.01972384,  3.83101277,\n",
              "         4.88082577,  6.05122387,  7.99966114,  9.87005767, 11.47435116,\n",
              "        13.13728289, 14.8766845 , 24.99932938, 16.61689962, 24.00105769,\n",
              "        22.99145023, 18.11271554, 21.98621646, 19.75992487, 20.91424835,\n",
              "         0.        ,  0.        ,  0.        ,  0.        ,  0.        ]),\n",
              " array([ 0.        ,  1.0002096 ,  1.99952469,  2.99740062,  3.99350158,\n",
              "         5.07410963,  6.07888563,  7.94087738,  9.94166651, 10.95768081,\n",
              "        12.03342541, 14.2140778 , 24.99982414, 15.59924208, 16.80167812,\n",
              "        23.99904414, 22.99165226, 18.77710792, 21.97416629, 19.96700819,\n",
              "        20.96726436,  0.        ,  0.        ,  0.        ,  0.        ]),\n",
              " array([ 0.        +0.j        ,  1.00001543+0.j        ,\n",
              "         2.00005681+0.j        ,  3.00057738+0.j        ,\n",
              "         3.98133806+0.j        ,  5.01235767+0.j        ,\n",
              "         6.0441183 +0.j        ,  7.95378195+0.j        ,\n",
              "         9.40567823+0.j        , 10.84059884+0.j        ,\n",
              "        11.68997572+0.j        , 25.00001328+0.j        ,\n",
              "        14.05618373+0.j        , 15.36611049+0.22780142j,\n",
              "        15.36611049-0.22780142j, 24.00036202+0.j        ,\n",
              "        22.99941934+0.j        , 17.64757659+0.j        ,\n",
              "        18.05682588+0.j        , 22.02372118+0.j        ,\n",
              "        19.99922397+0.j        , 20.98785699+0.j        ,\n",
              "         0.        +0.j        ,  0.        +0.j        ,\n",
              "         0.        +0.j        ]),\n",
              " array([ 0.        ,  0.99998929,  1.99982222,  2.99901475,  4.00412497,\n",
              "         4.99296414,  6.05669048,  8.04997253,  8.84510314,  9.99735425,\n",
              "        10.77165872, 12.303026  , 24.9999954 , 23.9999267 , 14.11992601,\n",
              "        15.24211142, 23.00102125, 16.63596407, 17.60893938, 21.99960493,\n",
              "        21.01629606, 19.3453786 , 19.98755207,  0.        ,  0.        ]),\n",
              " array([ 0.        +0.j        ,  0.99999839+0.j        ,\n",
              "         1.99997577+0.j        ,  3.00005782+0.j        ,\n",
              "         3.99960142+0.j        ,  4.99323009+0.j        ,\n",
              "         5.99024657+0.j        , 25.00000502+0.j        ,\n",
              "        24.0000002 +0.j        ,  8.25178698+0.04012001j,\n",
              "         8.25178698-0.04012001j,  9.77566955+0.j        ,\n",
              "        10.56506995+0.j        , 11.92693731+0.j        ,\n",
              "        13.05679577+0.j        , 23.00003735+0.j        ,\n",
              "        14.55696303+0.j        , 15.50932862+0.j        ,\n",
              "        21.99597531+0.j        , 16.83197116+0.j        ,\n",
              "        17.87973402+0.j        , 20.99931605+0.j        ,\n",
              "        19.1082023 +0.j        , 19.99680247+0.j        ,\n",
              "         0.        +0.j        ]),\n",
              " array([ 0.        ,  1.0000001 , 24.99999988,  2.00000894,  2.99993882,\n",
              "        23.99999744,  3.99892847,  4.99952918, 22.99999845,  6.00124568,\n",
              "        21.99990688,  7.00928319,  8.02849927,  8.89235625, 10.10721995,\n",
              "        11.02288615, 12.04649967, 21.00012889, 20.00086855, 13.93040226,\n",
              "        14.95920055, 18.99172196, 15.90267679, 17.99597072, 17.03330018]),\n",
              " array([25.        ,  1.        , 24.        ,  2.        , 23.        ,\n",
              "         3.        , 22.        ,  4.        , 21.        ,  5.        ,\n",
              "        20.        ,  6.        , 19.        ,  7.        ,  8.        ,\n",
              "        18.        , 17.        ,  9.        , 10.        , 16.        ,\n",
              "        10.99999999, 14.99999999, 12.00000001, 14.00000001, 12.99999999])]"
            ]
          },
          "execution_count": 36,
          "metadata": {},
          "output_type": "execute_result"
        }
      ],
      "source": [
        "ritz_values"
      ]
    },
    {
      "cell_type": "code",
      "execution_count": null,
      "metadata": {},
      "outputs": [],
      "source": []
    }
  ],
  "metadata": {
    "kernelspec": {
      "display_name": "Python 3",
      "language": "python",
      "name": "python3"
    },
    "language_info": {
      "codemirror_mode": {
        "name": "ipython",
        "version": 3
      },
      "file_extension": ".py",
      "mimetype": "text/x-python",
      "name": "python",
      "nbconvert_exporter": "python",
      "pygments_lexer": "ipython3",
      "version": "3.8.5"
    }
  },
  "nbformat": 4,
  "nbformat_minor": 4
}