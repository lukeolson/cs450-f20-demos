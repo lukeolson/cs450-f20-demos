{
  "cells": [
    {
      "cell_type": "code",
      "execution_count": 1,
      "metadata": {},
      "outputs": [],
      "source": [
        "import sympy as sp\n",
        "sp.init_printing()"
      ]
    },
    {
      "cell_type": "code",
      "execution_count": 2,
      "metadata": {},
      "outputs": [],
      "source": [
        "eps = sp.Symbol(\"epsilon\")\n",
        "lam = sp.Symbol(\"lambda\")"
      ]
    },
    {
      "cell_type": "code",
      "execution_count": 3,
      "metadata": {},
      "outputs": [
        {
          "data": {
            "image/png": "[encoded data removed]",
            "text/latex": [
              "$$\\left[\\begin{matrix}1 & \\epsilon\\\\\\epsilon & 1\\end{matrix}\\right]$$"
            ],
            "text/plain": [
              "\u23a11  \u03b5\u23a4\n",
              "\u23a2    \u23a5\n",
              "\u23a3\u03b5  1\u23a6"
            ]
          },
          "execution_count": 3,
          "metadata": {},
          "output_type": "execute_result"
        }
      ],
      "source": [
        "m = sp.Matrix([[1, eps], [eps, 1]])\n",
        "m"
      ]
    },
    {
      "cell_type": "code",
      "execution_count": 4,
      "metadata": {},
      "outputs": [
        {
          "data": {
            "image/png": "[encoded data removed]",
            "text/latex": [
              "$$\\operatorname{PurePoly}{\\left( \\lambda^{2} - 2 \\lambda -  \\epsilon^{2} + 1, \\lambda, domain=\\mathbb{Z}\\left[\\epsilon\\right] \\right)}$$"
            ],
            "text/plain": [
              "PurePoly(lambda**2 - 2*lambda - epsilon**2 + 1, lambda, domain='ZZ[epsilon]')"
            ]
          },
          "execution_count": 4,
          "metadata": {},
          "output_type": "execute_result"
        }
      ],
      "source": [
        "m.charpoly(lam)"
      ]
    },
    {
      "cell_type": "markdown",
      "metadata": {},
      "source": [
        "Observe the occurrence of $(1-\\epsilon^2)$ above."
      ]
    }
  ],
  "metadata": {
    "kernelspec": {
      "display_name": "Python 3",
      "language": "python",
      "name": "python3"
    },
    "language_info": {
      "codemirror_mode": {
        "name": "ipython",
        "version": 3
      },
      "file_extension": ".py",
      "mimetype": "text/x-python",
      "name": "python",
      "nbconvert_exporter": "python",
      "pygments_lexer": "ipython3",
      "version": "3.7.4"
    }
  },
  "nbformat": 4,
  "nbformat_minor": 1
}