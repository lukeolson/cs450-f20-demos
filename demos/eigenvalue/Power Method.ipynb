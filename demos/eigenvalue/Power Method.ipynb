{
 "cells": [
  {
   "cell_type": "code",
   "execution_count": null,
   "metadata": {},
   "outputs": [],
   "source": [
    "import numpy as np\n",
    "from numpy.linalg import eig\n",
    "import matplotlib.pyplot as plt"
   ]
  },
  {
   "cell_type": "code",
   "execution_count": null,
   "metadata": {},
   "outputs": [],
   "source": [
    "def plot_vectors(V, EigVec):\n",
    "    base = [0 for e in EigVec]\n",
    "    vx = [np.array(e).ravel()[0] for e in EigVec]\n",
    "    vy = [np.array(e).ravel()[1] for e in EigVec]\n",
    "    plt.quiver(base, base, vx, vy, color = ['b', 'b'], angles = 'xy', scale=1.0, scale_units='xy')\n",
    "    base = [0 for v in V]\n",
    "    x = [np.array(v).ravel()[0] for v in V]\n",
    "    y = [np.array(v).ravel()[1] for v in V]\n",
    "    plt.quiver(base, base, x, y, color = 'r', angles = 'xy', scale=1.0, scale_units='xy')\n",
    "    maxy = max([abs(i)+1 for i in y])\n",
    "    maxx = max([abs(i)+1 for i in y])\n",
    "    plt.ylim(-1*maxy, maxy)\n",
    "    plt.xlim(-1*maxx, maxx)"
   ]
  },
  {
   "cell_type": "markdown",
   "metadata": {},
   "source": [
    "$A : \\left(\\begin{matrix}\n",
    "    3 & 4\\\\\n",
    "    4 & 3\\\\\n",
    "\\end{matrix}\\right) \\hspace{25pt}\n",
    "v0 : \\left(\\begin{matrix}\n",
    "    1\\\\\n",
    "    1\\\\\n",
    "\\end{matrix}\\right) \\hspace{25pt}\n",
    "v1 : \\left(\\begin{matrix}\n",
    "    1\\\\\n",
    "    -1\\\\\n",
    "\\end{matrix}\\right)$"
   ]
  },
  {
   "cell_type": "code",
   "execution_count": null,
   "metadata": {},
   "outputs": [],
   "source": [
    "A = np.matrix([[3,4],[4,3]])\n",
    "v0 = [[1],[1]]\n",
    "v1 = [[1],[-1]]\n",
    "x = [[0],[1]]\n",
    "for i in range(400):\n",
    "    x = A.dot(x)\n",
    "plot_vectors([x], [v0,v1])"
   ]
  },
  {
   "cell_type": "code",
   "execution_count": null,
   "metadata": {},
   "outputs": [],
   "source": [
    "A = np.matrix([[3,4],[4,3]])\n",
    "v0 = [[1],[1]]\n",
    "v1 = [[1],[-1]]\n",
    "x = [[0],[1]]\n",
    "for i in range(3):\n",
    "    x = A.dot(x)\n",
    "    x = x / np.linalg.norm(x,np.inf)\n",
    "plot_vectors([x], [v0,v1])"
   ]
  },
  {
   "cell_type": "markdown",
   "metadata": {},
   "source": [
    "$A : \\left(\\begin{matrix}\n",
    "    2 & 0\\\\\n",
    "    0 & 2\\\\\n",
    "\\end{matrix}\\right) \\hspace{25pt}\n",
    "v0 : \\left(\\begin{matrix}\n",
    "    1\\\\\n",
    "    0\\\\\n",
    "\\end{matrix}\\right) \\hspace{25pt}\n",
    "v1 : \\left(\\begin{matrix}\n",
    "    0\\\\\n",
    "    1\\\\\n",
    "\\end{matrix}\\right)$"
   ]
  },
  {
   "cell_type": "code",
   "execution_count": null,
   "metadata": {},
   "outputs": [],
   "source": [
    "A = np.matrix([[2, 0],[0,2]])\n",
    "v0 = [[1],[0]]\n",
    "v1 = [[0],[1]]\n",
    "x = [[1],[1]]\n",
    "for i in range(100):\n",
    "    x = A.dot(x)\n",
    "    x = x / np.linalg.norm(x,np.inf)\n",
    "plot_vectors([x], [v0,v1])"
   ]
  },
  {
   "cell_type": "code",
   "execution_count": null,
   "metadata": {},
   "outputs": [],
   "source": []
  },
  {
   "cell_type": "code",
   "execution_count": null,
   "metadata": {},
   "outputs": [],
   "source": []
  }
 ],
 "metadata": {
  "kernelspec": {
   "display_name": "Python 3",
   "language": "python",
   "name": "python3"
  },
  "language_info": {
   "codemirror_mode": {
    "name": "ipython",
    "version": 3
   },
   "file_extension": ".py",
   "mimetype": "text/x-python",
   "name": "python",
   "nbconvert_exporter": "python",
   "pygments_lexer": "ipython3",
   "version": "3.8.5"
  }
 },
 "nbformat": 4,
 "nbformat_minor": 4
}
