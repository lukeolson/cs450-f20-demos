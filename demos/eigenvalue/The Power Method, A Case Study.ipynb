{
 "cells": [
  {
   "cell_type": "code",
   "execution_count": 1,
   "metadata": {},
   "outputs": [],
   "source": [
    "import numpy as np\n",
    "import matplotlib.pyplot as plt\n",
    "%matplotlib inline\n",
    "plt.style.use('seaborn-talk')"
   ]
  },
  {
   "cell_type": "code",
   "execution_count": 2,
   "metadata": {},
   "outputs": [],
   "source": [
    "def power_method(A, x, maxiter):\n",
    "    eigs = np.zeros(maxiter)\n",
    "    eigv = np.zeros((len(x), maxiter))\n",
    "\n",
    "    for i in range(maxiter):\n",
    "        y = A @ x\n",
    "        ynorm = np.linalg.norm(y,np.inf)\n",
    "        x = y / ynorm\n",
    "        \n",
    "        eigs[i] = ynorm\n",
    "        eigv[:,i] = x\n",
    "        \n",
    "    return x, eigs, eigv"
   ]
  },
  {
   "cell_type": "markdown",
   "metadata": {},
   "source": [
    "# Test 1"
   ]
  },
  {
   "cell_type": "code",
   "execution_count": null,
   "metadata": {},
   "outputs": [],
   "source": [
    "n = 12\n",
    "x = np.linspace(0,1,n)\n",
    "X = np.zeros((n,n))\n",
    "for i in range(n):\n",
    "    X[:,i] = x**i\n",
    "A = np.linalg.inv(X) @ np.diag(np.arange(1,n+1)) @ X\n",
    "\n",
    "x, eigs, eigv = power_method(A, np.random.rand(A.shape[0]), 1000)"
   ]
  },
  {
   "cell_type": "code",
   "execution_count": null,
   "metadata": {},
   "outputs": [],
   "source": [
    "eigs"
   ]
  },
  {
   "cell_type": "code",
   "execution_count": null,
   "metadata": {},
   "outputs": [],
   "source": [
    "[(11/12)**k for k in range(100)]"
   ]
  },
  {
   "cell_type": "markdown",
   "metadata": {},
   "source": [
    "# Test 2"
   ]
  },
  {
   "cell_type": "code",
   "execution_count": null,
   "metadata": {},
   "outputs": [],
   "source": [
    "n = 10\n",
    "X = np.random.rand(n,n)\n",
    "A = X @ np.diag(np.arange(1,n+1)) @ np.linalg.inv(X)\n",
    "\n",
    "x0 = np.random.rand(10)\n",
    "#x0 = X[:,:-1].sum(axis=1)\n",
    "\n",
    "x, eigs, eigv = power_method(A, x0, 50)"
   ]
  },
  {
   "cell_type": "code",
   "execution_count": null,
   "metadata": {},
   "outputs": [],
   "source": [
    "eigs"
   ]
  },
  {
   "cell_type": "markdown",
   "metadata": {},
   "source": [
    "# Test 3"
   ]
  },
  {
   "cell_type": "code",
   "execution_count": null,
   "metadata": {},
   "outputs": [],
   "source": [
    "n = 10\n",
    "X = np.random.rand(n,n)\n",
    "diag = np.arange(1,n+1)\n",
    "diag[-2] = -10\n",
    "D = np.diag(diag)\n",
    "A = X @ D @ np.linalg.inv(X)\n",
    "\n",
    "x0 = np.random.rand(10)\n",
    "\n",
    "x, eigs, eigv = power_method(A, x0, 10)"
   ]
  },
  {
   "cell_type": "code",
   "execution_count": null,
   "metadata": {},
   "outputs": [],
   "source": [
    "eigs"
   ]
  },
  {
   "cell_type": "code",
   "execution_count": null,
   "metadata": {},
   "outputs": [],
   "source": [
    "plt.plot(eigv.T)"
   ]
  },
  {
   "cell_type": "markdown",
   "metadata": {},
   "source": [
    "# Test 4"
   ]
  },
  {
   "cell_type": "code",
   "execution_count": null,
   "metadata": {},
   "outputs": [],
   "source": [
    "n = 5\n",
    "A = np.random.rand(n,n)\n",
    "\n",
    "x0 = np.random.rand(5)\n",
    "\n",
    "x, eigs, eigv = power_method(A, x0, 10)"
   ]
  },
  {
   "cell_type": "code",
   "execution_count": null,
   "metadata": {},
   "outputs": [],
   "source": [
    "eigs"
   ]
  },
  {
   "cell_type": "code",
   "execution_count": null,
   "metadata": {},
   "outputs": [],
   "source": [
    "x"
   ]
  },
  {
   "cell_type": "code",
   "execution_count": null,
   "metadata": {},
   "outputs": [],
   "source": [
    "np.linalg.eig(A)"
   ]
  },
  {
   "cell_type": "markdown",
   "metadata": {},
   "source": [
    "# Test 5"
   ]
  },
  {
   "cell_type": "code",
   "execution_count": null,
   "metadata": {},
   "outputs": [],
   "source": [
    "n = 10\n",
    "X = np.random.rand(n,n)\n",
    "diag = np.arange(1,n+1)\n",
    "diag[-2] = 8\n",
    "D = np.diag(diag)\n",
    "A = X @ D @ np.linalg.inv(X)\n",
    "\n",
    "x0 = np.random.rand(10)\n",
    "\n",
    "x, eigs, eigv = power_method(A, x0, 100)"
   ]
  },
  {
   "cell_type": "code",
   "execution_count": null,
   "metadata": {},
   "outputs": [],
   "source": [
    "plt.semilogy(np.abs(eigs-10))"
   ]
  },
  {
   "cell_type": "code",
   "execution_count": null,
   "metadata": {},
   "outputs": [],
   "source": [
    "n = 10\n",
    "X = np.random.rand(n,n)\n",
    "diag = np.arange(1,n+1)\n",
    "diag[-2] = 9\n",
    "D = np.diag(diag)\n",
    "A = X @ D @ np.linalg.inv(X)\n",
    "\n",
    "x0 = np.random.rand(10)\n",
    "\n",
    "x, eigs, eigv = power_method(A, x0, 100)"
   ]
  },
  {
   "cell_type": "code",
   "execution_count": null,
   "metadata": {},
   "outputs": [],
   "source": [
    "plt.semilogy(np.abs(eigs-10))"
   ]
  },
  {
   "cell_type": "markdown",
   "metadata": {},
   "source": [
    "# Test 6\n",
    "\n",
    "Shift!"
   ]
  },
  {
   "cell_type": "code",
   "execution_count": null,
   "metadata": {},
   "outputs": [],
   "source": [
    "n = 10\n",
    "X = np.random.rand(n,n)\n",
    "diag = np.arange(1,n+1)\n",
    "diag[-2] = 9\n",
    "D = np.diag(diag)\n",
    "A = X @ D @ np.linalg.inv(X)\n",
    "\n",
    "x0 = np.random.rand(10)\n",
    "\n",
    "x, eigs, eigv = power_method(A - 5*np.eye(n), x0, 100)"
   ]
  },
  {
   "cell_type": "code",
   "execution_count": null,
   "metadata": {},
   "outputs": [],
   "source": [
    "plt.semilogy(np.abs(eigs-(10-5)))"
   ]
  },
  {
   "cell_type": "code",
   "execution_count": null,
   "metadata": {},
   "outputs": [],
   "source": []
  }
 ],
 "metadata": {
  "kernelspec": {
   "display_name": "Python 3",
   "language": "python",
   "name": "python3"
  },
  "language_info": {
   "codemirror_mode": {
    "name": "ipython",
    "version": 3
   },
   "file_extension": ".py",
   "mimetype": "text/x-python",
   "name": "python",
   "nbconvert_exporter": "python",
   "pygments_lexer": "ipython3",
   "version": "3.8.5"
  }
 },
 "nbformat": 4,
 "nbformat_minor": 4
}
