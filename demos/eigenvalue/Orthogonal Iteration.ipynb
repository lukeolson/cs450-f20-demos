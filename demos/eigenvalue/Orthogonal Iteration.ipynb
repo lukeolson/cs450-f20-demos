{
 "cells": [
  {
   "cell_type": "code",
   "execution_count": null,
   "metadata": {},
   "outputs": [],
   "source": [
    "import numpy as np\n",
    "import matplotlib.pyplot as plt\n",
    "%matplotlib inline\n",
    "plt.style.use('seaborn-talk')"
   ]
  },
  {
   "cell_type": "code",
   "execution_count": null,
   "metadata": {},
   "outputs": [],
   "source": [
    "np.random.seed(2222)\n",
    "T, _ = np.linalg.qr(np.random.rand(5,5))\n",
    "A = T.T @ np.diag([5,4,3,2,1]) @ T\n",
    "\n",
    "w, v = np.linalg.eig(A)\n",
    "np.set_printoptions(precision=2)\n",
    "print(w)\n",
    "for ww in w:\n",
    "    print(ww, np.abs(ww))\n",
    "print(v)"
   ]
  },
  {
   "cell_type": "code",
   "execution_count": null,
   "metadata": {},
   "outputs": [],
   "source": [
    "#A = np.random.rand(5,5)\n",
    "X = np.random.rand(5,3)\n",
    "for i in range(50):\n",
    "    Q, R = np.linalg.qr(X, mode='reduced')\n",
    "    X = A @ Q\n",
    "    \n",
    "    print(np.diag(X.conj().T @ (A @ X)) / np.diag(X.conj().T @ X))"
   ]
  },
  {
   "cell_type": "code",
   "execution_count": null,
   "metadata": {},
   "outputs": [],
   "source": [
    "Q.T @ A @ Q"
   ]
  },
  {
   "cell_type": "markdown",
   "metadata": {},
   "source": [
    "# QR"
   ]
  },
  {
   "cell_type": "code",
   "execution_count": null,
   "metadata": {},
   "outputs": [],
   "source": [
    "X = A.copy()\n",
    "Qall = np.eye(5)\n",
    "for i in range(10):\n",
    "    Q, R = np.linalg.qr(X)\n",
    "    X = R @ Q\n",
    "    \n",
    "    np.set_printoptions(precision=2)\n",
    "    print(np.diag(X))\n",
    "    \n",
    "    #Qall = Qall @ Q\n",
    "    #print(Qall)"
   ]
  },
  {
   "cell_type": "code",
   "execution_count": null,
   "metadata": {},
   "outputs": [],
   "source": [
    "from matplotlib.colors import LogNorm"
   ]
  },
  {
   "cell_type": "code",
   "execution_count": null,
   "metadata": {},
   "outputs": [],
   "source": [
    "np.random.seed(12112019)\n",
    "niter = 400\n",
    "nprint = 5\n",
    "niterprint = np.floor(niter / nprint)\n",
    "\n",
    "A = np.random.rand(10,10)\n",
    "A = A + 1j * np.random.rand(10,10)\n",
    "A = A + A.T\n",
    "X = A.copy()\n",
    "\n",
    "ct = 0\n",
    "f, ax = plt.subplots(2,nprint,sharey=True,figsize=(12,6))\n",
    "for i in range(niter):\n",
    "    Q, R = np.linalg.qr(X)\n",
    "    X = R @ Q\n",
    "    \n",
    "    if i % niterprint == 0:\n",
    "        \n",
    "        I, J = np.where(np.abs(X) < 1e-13)\n",
    "        Xtmp = X.copy()\n",
    "        Xtmp[I,J] = 0.0\n",
    "        \n",
    "        im = ax[0,ct].imshow(np.abs(Xtmp.real), cmap=plt.cm.winter, norm=LogNorm())\n",
    "        ax[0,ct].axis('off')\n",
    "        \n",
    "        if np.abs(Xtmp.imag).max() > 1e-13:\n",
    "            im = ax[1,ct].imshow(np.abs(Xtmp.imag), cmap=plt.cm.winter, norm=LogNorm())\n",
    "        ax[1,ct].axis('off')\n",
    "        ct += 1\n",
    "        \n",
    "f.colorbar(im, ax=ax.ravel().tolist(), shrink=0.95)"
   ]
  },
  {
   "cell_type": "code",
   "execution_count": null,
   "metadata": {},
   "outputs": [],
   "source": [
    "Xtmp"
   ]
  },
  {
   "cell_type": "code",
   "execution_count": null,
   "metadata": {},
   "outputs": [],
   "source": []
  }
 ],
 "metadata": {
  "kernelspec": {
   "display_name": "Python 3",
   "language": "python",
   "name": "python3"
  },
  "language_info": {
   "codemirror_mode": {
    "name": "ipython",
    "version": 3
   },
   "file_extension": ".py",
   "mimetype": "text/x-python",
   "name": "python",
   "nbconvert_exporter": "python",
   "pygments_lexer": "ipython3",
   "version": "3.8.5"
  }
 },
 "nbformat": 4,
 "nbformat_minor": 4
}
