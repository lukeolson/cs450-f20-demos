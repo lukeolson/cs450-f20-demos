{
 "cells": [
  {
   "cell_type": "markdown",
   "metadata": {},
   "source": [
    "# Finite Differences for Boundary Value Problems"
   ]
  },
  {
   "cell_type": "code",
   "execution_count": 1,
   "metadata": {
    "collapsed": false,
    "jupyter": {
     "outputs_hidden": false
    }
   },
   "outputs": [],
   "source": [
    "import numpy as np\n",
    "import matplotlib.pyplot as pt\n",
    "\n",
    "import scipy.sparse as sps"
   ]
  },
  {
   "cell_type": "markdown",
   "metadata": {},
   "source": [
    "We'll solve\n",
    "\n",
    "$u''+1000(1+x^2)u=0$ on $(-1,1)$\n",
    "\n",
    "with $u(-1)=3$ and $u(1)=-3$."
   ]
  },
  {
   "cell_type": "code",
   "execution_count": 43,
   "metadata": {
    "collapsed": false,
    "jupyter": {
     "outputs_hidden": false
    }
   },
   "outputs": [],
   "source": [
    "#n = 9\n",
    "n = 2000\n",
    "\n",
    "mesh = np.linspace(-1, 1, n)\n",
    "h = mesh[1] - mesh[0]"
   ]
  },
  {
   "cell_type": "markdown",
   "metadata": {},
   "source": [
    "Use `sps.diags(values, offsets=..., shape=(n, n))` to make a centered difference matrix."
   ]
  },
  {
   "cell_type": "code",
   "execution_count": 44,
   "metadata": {
    "jupyter": {
     "source_hidden": true
    }
   },
   "outputs": [
    {
     "data": {
      "text/plain": [
       "\u001b[0;31mSignature:\u001b[0m \u001b[0msps\u001b[0m\u001b[0;34m.\u001b[0m\u001b[0mdiags\u001b[0m\u001b[0;34m(\u001b[0m\u001b[0mdiagonals\u001b[0m\u001b[0;34m,\u001b[0m \u001b[0moffsets\u001b[0m\u001b[0;34m=\u001b[0m\u001b[0;36m0\u001b[0m\u001b[0;34m,\u001b[0m \u001b[0mshape\u001b[0m\u001b[0;34m=\u001b[0m\u001b[0;32mNone\u001b[0m\u001b[0;34m,\u001b[0m \u001b[0mformat\u001b[0m\u001b[0;34m=\u001b[0m\u001b[0;32mNone\u001b[0m\u001b[0;34m,\u001b[0m \u001b[0mdtype\u001b[0m\u001b[0;34m=\u001b[0m\u001b[0;32mNone\u001b[0m\u001b[0;34m)\u001b[0m\u001b[0;34m\u001b[0m\u001b[0;34m\u001b[0m\u001b[0m\n",
       "\u001b[0;31mDocstring:\u001b[0m\n",
       "Construct a sparse matrix from diagonals.\n",
       "\n",
       "Parameters\n",
       "----------\n",
       "diagonals : sequence of array_like\n",
       "    Sequence of arrays containing the matrix diagonals,\n",
       "    corresponding to `offsets`.\n",
       "offsets : sequence of int or an int, optional\n",
       "    Diagonals to set:\n",
       "      - k = 0  the main diagonal (default)\n",
       "      - k > 0  the kth upper diagonal\n",
       "      - k < 0  the kth lower diagonal\n",
       "shape : tuple of int, optional\n",
       "    Shape of the result. If omitted, a square matrix large enough\n",
       "    to contain the diagonals is returned.\n",
       "format : {\"dia\", \"csr\", \"csc\", \"lil\", ...}, optional\n",
       "    Matrix format of the result. By default (format=None) an\n",
       "    appropriate sparse matrix format is returned. This choice is\n",
       "    subject to change.\n",
       "dtype : dtype, optional\n",
       "    Data type of the matrix.\n",
       "\n",
       "See Also\n",
       "--------\n",
       "spdiags : construct matrix from diagonals\n",
       "\n",
       "Notes\n",
       "-----\n",
       "This function differs from `spdiags` in the way it handles\n",
       "off-diagonals.\n",
       "\n",
       "The result from `diags` is the sparse equivalent of::\n",
       "\n",
       "    np.diag(diagonals[0], offsets[0])\n",
       "    + ...\n",
       "    + np.diag(diagonals[k], offsets[k])\n",
       "\n",
       "Repeated diagonal offsets are disallowed.\n",
       "\n",
       ".. versionadded:: 0.11\n",
       "\n",
       "Examples\n",
       "--------\n",
       ">>> from scipy.sparse import diags\n",
       ">>> diagonals = [[1, 2, 3, 4], [1, 2, 3], [1, 2]]\n",
       ">>> diags(diagonals, [0, -1, 2]).toarray()\n",
       "array([[1, 0, 1, 0],\n",
       "       [1, 2, 0, 2],\n",
       "       [0, 2, 3, 0],\n",
       "       [0, 0, 3, 4]])\n",
       "\n",
       "Broadcasting of scalars is supported (but shape needs to be\n",
       "specified):\n",
       "\n",
       ">>> diags([1, -2, 1], [-1, 0, 1], shape=(4, 4)).toarray()\n",
       "array([[-2.,  1.,  0.,  0.],\n",
       "       [ 1., -2.,  1.,  0.],\n",
       "       [ 0.,  1., -2.,  1.],\n",
       "       [ 0.,  0.,  1., -2.]])\n",
       "\n",
       "\n",
       "If only one diagonal is wanted (as in `numpy.diag`), the following\n",
       "works as well:\n",
       "\n",
       ">>> diags([1, 2, 3], 1).toarray()\n",
       "array([[ 0.,  1.,  0.,  0.],\n",
       "       [ 0.,  0.,  2.,  0.],\n",
       "       [ 0.,  0.,  0.,  3.],\n",
       "       [ 0.,  0.,  0.,  0.]])\n",
       "\u001b[0;31mFile:\u001b[0m      ~/.virtualenvs/notebooks/lib/python3.8/site-packages/scipy/sparse/construct.py\n",
       "\u001b[0;31mType:\u001b[0m      function\n"
      ]
     },
     "metadata": {},
     "output_type": "display_data"
    }
   ],
   "source": [
    "sps.diags?"
   ]
  },
  {
   "cell_type": "code",
   "execution_count": 45,
   "metadata": {
    "collapsed": false,
    "jupyter": {
     "outputs_hidden": false
    }
   },
   "outputs": [],
   "source": [
    "#clear\n",
    "A = sps.diags(\n",
    "    [1,-2,1],\n",
    "    offsets=[-1,0,1], \n",
    "    shape=(n, n))\n",
    "\n",
    "if n < 10:\n",
    "    print(A.todense())"
   ]
  },
  {
   "cell_type": "markdown",
   "metadata": {},
   "source": [
    "Create `second_deriv` as a matrix to apply the second derivative. Can only do that for the interior points!\n",
    "\n",
    "* change `shape` and offsets\n",
    "* Take `h` into account"
   ]
  },
  {
   "cell_type": "code",
   "execution_count": 46,
   "metadata": {
    "collapsed": false,
    "jupyter": {
     "outputs_hidden": false
    }
   },
   "outputs": [],
   "source": [
    "second_deriv = sps.diags(\n",
    "    [1,-2,1],\n",
    "    offsets=np.array([-1,0,1])+1,\n",
    "    shape=(n-2, n))/h**2\n",
    "\n",
    "\n",
    "if n < 10:\n",
    "    print(second_deriv.todense())"
   ]
  },
  {
   "cell_type": "markdown",
   "metadata": {},
   "source": [
    "Make a matrix for the lower-order term."
   ]
  },
  {
   "cell_type": "code",
   "execution_count": 47,
   "metadata": {
    "collapsed": false,
    "jupyter": {
     "outputs_hidden": false
    }
   },
   "outputs": [],
   "source": [
    "factor = sps.diags(\n",
    "    [1000*(1 + mesh[1:]**2)],\n",
    "    offsets=[1],\n",
    "    shape=(n-2, n))\n",
    "\n",
    "if n < 10:\n",
    "    print(mesh[1:-1])\n",
    "    print()\n",
    "    print(factor.todense())"
   ]
  },
  {
   "cell_type": "markdown",
   "metadata": {},
   "source": [
    "Build the matrix for the interior:"
   ]
  },
  {
   "cell_type": "code",
   "execution_count": 48,
   "metadata": {
    "collapsed": false,
    "jupyter": {
     "outputs_hidden": false
    }
   },
   "outputs": [],
   "source": [
    "A_int = second_deriv+factor\n",
    "\n",
    "if n < 10:\n",
    "    print(A_int.todense())"
   ]
  },
  {
   "cell_type": "markdown",
   "metadata": {},
   "source": [
    "Glue on the rows for the boundary conditions:"
   ]
  },
  {
   "cell_type": "code",
   "execution_count": 49,
   "metadata": {
    "collapsed": false,
    "jupyter": {
     "outputs_hidden": false
    }
   },
   "outputs": [],
   "source": [
    "A = sps.vstack([\n",
    "    sps.coo_matrix(([1], ([0],[0])), shape=(1, n)),\n",
    "    A_int,\n",
    "    sps.coo_matrix(([1], ([0],[n-1])), shape=(1, n)),\n",
    "    ])\n",
    "A = sps.csr_matrix(A)\n",
    "\n",
    "if n < 10:\n",
    "    print(A.todense())"
   ]
  },
  {
   "cell_type": "code",
   "execution_count": 50,
   "metadata": {},
   "outputs": [
    {
     "data": {
      "text/plain": [
       "<matplotlib.lines.Line2D at 0x159e3f8e0>"
      ]
     },
     "execution_count": 50,
     "metadata": {},
     "output_type": "execute_result"
    },
    {
     "data": {
      "image/png": "[encoded data removed]",
      "text/plain": [
       "<Figure size 432x288 with 1 Axes>"
      ]
     },
     "metadata": {
      "needs_background": "light"
     },
     "output_type": "display_data"
    }
   ],
   "source": [
    "pt.spy(A)"
   ]
  },
  {
   "cell_type": "markdown",
   "metadata": {},
   "source": [
    "Next, assemble the right-hand side as `rhs`:\n",
    "\n",
    "Pay special attention to the boundary conditions. What entries of `rhs` do they correspond to?"
   ]
  },
  {
   "cell_type": "code",
   "execution_count": 51,
   "metadata": {
    "collapsed": false,
    "jupyter": {
     "outputs_hidden": false
    }
   },
   "outputs": [],
   "source": [
    "#clear\n",
    "rhs = np.zeros(n)\n",
    "rhs[0] = 3\n",
    "rhs[-1] = -3"
   ]
  },
  {
   "cell_type": "markdown",
   "metadata": {},
   "source": [
    "To wrap up, solve and plot:"
   ]
  },
  {
   "cell_type": "code",
   "execution_count": 52,
   "metadata": {
    "collapsed": false,
    "jupyter": {
     "outputs_hidden": false
    }
   },
   "outputs": [],
   "source": [
    "import scipy.sparse.linalg as sla\n",
    "\n",
    "sol = sla.spsolve(A, rhs)"
   ]
  },
  {
   "cell_type": "code",
   "execution_count": 53,
   "metadata": {
    "collapsed": false,
    "jupyter": {
     "outputs_hidden": false
    }
   },
   "outputs": [
    {
     "data": {
      "text/plain": [
       "[<matplotlib.lines.Line2D at 0x159f19ee0>]"
      ]
     },
     "execution_count": 53,
     "metadata": {},
     "output_type": "execute_result"
    },
    {
     "data": {
      "image/png": "[encoded data removed]",
      "text/plain": [
       "<Figure size 432x288 with 1 Axes>"
      ]
     },
     "metadata": {
      "needs_background": "light"
     },
     "output_type": "display_data"
    }
   ],
   "source": [
    "pt.plot(mesh, sol, 'o-')"
   ]
  },
  {
   "cell_type": "code",
   "execution_count": null,
   "metadata": {
    "collapsed": false,
    "jupyter": {
     "outputs_hidden": false
    }
   },
   "outputs": [],
   "source": []
  },
  {
   "cell_type": "code",
   "execution_count": null,
   "metadata": {},
   "outputs": [],
   "source": []
  },
  {
   "cell_type": "code",
   "execution_count": null,
   "metadata": {},
   "outputs": [],
   "source": []
  },
  {
   "cell_type": "code",
   "execution_count": null,
   "metadata": {},
   "outputs": [],
   "source": []
  }
 ],
 "metadata": {
  "kernelspec": {
   "display_name": "Python 3",
   "language": "python",
   "name": "python3"
  },
  "language_info": {
   "codemirror_mode": {
    "name": "ipython",
    "version": 3
   },
   "file_extension": ".py",
   "mimetype": "text/x-python",
   "name": "python",
   "nbconvert_exporter": "python",
   "pygments_lexer": "ipython3",
   "version": "3.8.6"
  }
 },
 "nbformat": 4,
 "nbformat_minor": 4
}
