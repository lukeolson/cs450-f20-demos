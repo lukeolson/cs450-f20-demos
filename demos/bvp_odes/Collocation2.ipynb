{
 "cells": [
  {
   "cell_type": "code",
   "execution_count": 1,
   "metadata": {},
   "outputs": [],
   "source": [
    "import numpy as np\n",
    "import matplotlib.pyplot as plt\n",
    "import scipy.special\n",
    "%matplotlib inline"
   ]
  },
  {
   "cell_type": "code",
   "execution_count": 2,
   "metadata": {},
   "outputs": [],
   "source": [
    "def phi(x, n):\n",
    "    \"\"\"\n",
    "    2nd Derivative of Tn(x)\n",
    "    https://en.wikipedia.org/wiki/Chebyshev_polynomials#Differentiation_and_integration\n",
    "    \"\"\"\n",
    "    Tn = scipy.special.chebyt(n)(x)\n",
    "    Un = scipy.special.chebyu(n)(x)\n",
    "    return n * ((n+1)*Tn - Un) / (x**2 - 1)"
   ]
  },
  {
   "cell_type": "code",
   "execution_count": 3,
   "metadata": {},
   "outputs": [],
   "source": [
    "n = 20\n",
    "x = np.linspace(-1,1,n)\n",
    "A = np.zeros((n,n))\n",
    "\n",
    "# BOundary conditions\n",
    "for j in range(0,n):\n",
    "    Tj = scipy.special.chebyt(j)(-1)\n",
    "    A[0,j] = Tj \n",
    "    Tj = scipy.special.chebyt(j)(1)\n",
    "    A[-1,j] = Tj\n",
    "    \n",
    "# u'' = f collocation\n",
    "for j in range(0,n):\n",
    "    A[1:-1,j] = phi(x[1:-1], j)"
   ]
  },
  {
   "cell_type": "code",
   "execution_count": 4,
   "metadata": {},
   "outputs": [],
   "source": [
    "# rhs\n",
    "f = np.zeros(n)\n",
    "f[0] = 3\n",
    "f[-1] = -3"
   ]
  },
  {
   "cell_type": "code",
   "execution_count": 5,
   "metadata": {},
   "outputs": [
    {
     "data": {
      "text/plain": [
       "[<matplotlib.lines.Line2D at 0x10d81d070>]"
      ]
     },
     "execution_count": 5,
     "metadata": {},
     "output_type": "execute_result"
    },
    {
     "data": {
      "image/png": "[encoded data removed]",
      "text/plain": [
       "<Figure size 432x288 with 1 Axes>"
      ]
     },
     "metadata": {
      "needs_background": "light"
     },
     "output_type": "display_data"
    }
   ],
   "source": [
    "alpha = np.linalg.solve(A, f)\n",
    "u = np.polynomial.chebyshev.chebval(x, alpha)\n",
    "plt.plot(x, u)"
   ]
  },
  {
   "cell_type": "markdown",
   "metadata": {},
   "source": [
    "Change the rhs"
   ]
  },
  {
   "cell_type": "code",
   "execution_count": 6,
   "metadata": {},
   "outputs": [
    {
     "data": {
      "text/plain": [
       "array([  1.        , -24.24814597, -38.27038852, -36.15328182,\n",
       "       -18.78964994,   6.49793397,  29.04521579,  39.34357879,\n",
       "        33.05000783,  12.81862124, -12.81862124, -33.05000783,\n",
       "       -39.34357879, -29.04521579,  -6.49793397,  18.78964994,\n",
       "        36.15328182,  38.27038852,  24.24814597,   7.        ])"
      ]
     },
     "execution_count": 6,
     "metadata": {},
     "output_type": "execute_result"
    }
   ],
   "source": [
    "k=2\n",
    "f = -(k*np.pi)**2 * np.sin(2*np.pi*x)\n",
    "uexact = np.sin(k*np.pi*x) + 3*x + 4\n",
    "f[0] = uexact[0]\n",
    "f[-1] = uexact[-1]\n",
    "f"
   ]
  },
  {
   "cell_type": "code",
   "execution_count": 7,
   "metadata": {},
   "outputs": [
    {
     "data": {
      "text/plain": [
       "[<matplotlib.lines.Line2D at 0x10d90d5b0>]"
      ]
     },
     "execution_count": 7,
     "metadata": {},
     "output_type": "execute_result"
    },
    {
     "data": {
      "image/png": "[encoded data removed]",
      "text/plain": [
       "<Figure size 432x288 with 1 Axes>"
      ]
     },
     "metadata": {
      "needs_background": "light"
     },
     "output_type": "display_data"
    }
   ],
   "source": [
    "alpha = np.linalg.solve(A, f)\n",
    "u = np.polynomial.chebyshev.chebval(x, alpha)\n",
    "plt.plot(x, u, '-o')\n",
    "plt.plot(x, uexact)"
   ]
  },
  {
   "cell_type": "code",
   "execution_count": null,
   "metadata": {},
   "outputs": [],
   "source": []
  },
  {
   "cell_type": "code",
   "execution_count": null,
   "metadata": {},
   "outputs": [],
   "source": []
  }
 ],
 "metadata": {
  "kernelspec": {
   "display_name": "Python 3",
   "language": "python",
   "name": "python3"
  },
  "language_info": {
   "codemirror_mode": {
    "name": "ipython",
    "version": 3
   },
   "file_extension": ".py",
   "mimetype": "text/x-python",
   "name": "python",
   "nbconvert_exporter": "python",
   "pygments_lexer": "ipython3",
   "version": "3.8.6"
  }
 },
 "nbformat": 4,
 "nbformat_minor": 4
}
